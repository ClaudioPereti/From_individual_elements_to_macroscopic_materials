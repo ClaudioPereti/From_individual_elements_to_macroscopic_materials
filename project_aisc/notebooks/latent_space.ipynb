{
 "cells": [
  {
   "cell_type": "code",
   "execution_count": 2,
   "metadata": {},
   "outputs": [],
   "source": [
    "import pandas as pd\n",
    "import seaborn as sns\n",
    "import matplotlib.pyplot as plt\n",
    "import numpy as np\n",
    "import mendeleev"
   ]
  },
  {
   "cell_type": "code",
   "execution_count": null,
   "metadata": {},
   "outputs": [],
   "source": [
    "molecular_representation = [pd.read_csv('../data/experiments/dati_articolo/latent_space/01_bidimensional_molecules_classification'+str(i)+'.csv') for i in range(60)]\n",
    "for i in range(0,len(molecular_representation)):\n",
    "    molecular_representation[i]['X1'] = list(map(lambda x: float(x.strip('[]')),molecular_representation[i]['X1'].values))\n",
    "molecular_representation_sorted = []\n",
    "\n",
    "for mol in molecular_representation:\n",
    "    factor_X1 = 1\n",
    "\n",
    "    if (mol['X1']>100).sum() > 5:\n",
    "        factor_X1 = -1\n",
    "\n",
    "    molecular_representation_sorted.append(mol[['X1','Critical temperature']] * [factor_X1,1])\n",
    "    \n",
    "molecular_representation_averaged = sum(molecular_representation_sorted)/len(molecular_representation_sorted)"
   ]
  },
  {
   "cell_type": "markdown",
   "metadata": {},
   "source": [
    "# Histogram of Superconductors and Non superconductors in latent space for classifier"
   ]
  },
  {
   "cell_type": "code",
   "execution_count": null,
   "metadata": {},
   "outputs": [],
   "source": [
    "fig,ax = plt.subplots(figsize=(8,8))\n",
    "sns.histplot(data=molecular_representation_averaged,x='X1',hue='Critical temperature',ax=ax)\n",
    "plt.legend(labels=['Superconductor','Non Superconductor'])\n",
    "ax.set_xlim([-30,10])\n",
    "ax.set_xlabel(r'$X_1$',fontdict={'fontsize':14})"
   ]
  },
  {
   "cell_type": "code",
   "execution_count": null,
   "metadata": {},
   "outputs": [],
   "source": [
    "atomic_representation = [pd.read_csv('../data/experiments/dati_articolo/latent_space/01_bidimensional_atom_classification'+str(i)+'.csv') for i in range(50)]\n",
    "\n",
    "atomic_representation_sorted = []\n",
    "for index,atom in enumerate(atomic_representation):\n",
    "    factor_X1 = 1\n",
    "    mol = molecular_representation[index]\n",
    "    if (mol['X1']>100).sum() > 5:\n",
    "        factor_X1 = -1\n",
    "    atomic_representation_sorted.append(atom[['X1',]] * [factor_X1,])\n",
    "    \n",
    "atomic_representation_averaged = sum(atomic_representation_sorted)/len(atomic_representation_sorted)"
   ]
  },
  {
   "cell_type": "code",
   "execution_count": null,
   "metadata": {},
   "outputs": [],
   "source": [
    "symbols = [mendeleev.element(i).symbol for i in range(1,atomic_representation_averaged.shape[0]+1)]\n",
    "atom_list = [i for i in range(96)]\n",
    "atomic_representation_averaged.index = symbols\n",
    "\n",
    "gas_nobles = [1,9,17,35,53,85]\n",
    "alkali_metals = [0,2,10,18,36,54,86]\n",
    "earth_alkali_metals = [3,11,19,37,55,87]\n",
    "transitional_elements = [i for i in range(20,30)] + [i for i in range(38,49)] + [56]+[i for i in range(71,81)]\n",
    "halogens = [8,16,34,52,84]\n",
    "reactive_nonmetals = [5,6,7,14,15,33]\n",
    "metalloid = [30,48,49,80,81,82]\n",
    "lanthanides = [i for i in range(57,72)]\n",
    "actinides = [i for i in range(89,96)]\n",
    "atomic_categories = ['Transition metals' for i in range(96)]\n",
    "categories = [gas_nobles,alkali_metals,earth_alkali_metals,transitional_elements,halogens,reactive_nonmetals,metalloid,lanthanides,actinides]\n",
    "\n",
    "\n",
    "for gas in actinides:\n",
    "    atomic_categories[gas] = 'Actinides'\n",
    "for gas in lanthanides:\n",
    "    atomic_categories[gas] = 'Lanthanides'\n",
    "for gas in metalloid:\n",
    "    atomic_categories[gas] = 'Metalloid'\n",
    "for gas in reactive_nonmetals:\n",
    "    atomic_categories[gas] = 'Reactive nonmetals'\n",
    "for gas in halogens:\n",
    "    atomic_categories[gas] = 'Halogens'\n",
    "for gas in earth_alkali_metals:\n",
    "    atomic_categories[gas] = 'Alkaline earth metals'\n",
    "for gas in alkali_metals:\n",
    "    atomic_categories[gas] = 'Alkali metals'\n",
    "for gas in gas_nobles:\n",
    "    atomic_categories[gas] = 'Noble gases'\n",
    "    \n",
    "atomic_representation_averaged['Categories'] = atomic_categories"
   ]
  },
  {
   "cell_type": "markdown",
   "metadata": {},
   "source": [
    "# Atomic & Molecular Latent Space for classifier"
   ]
  },
  {
   "cell_type": "code",
   "execution_count": null,
   "metadata": {},
   "outputs": [],
   "source": [
    "fig, axs = plt.subplots(1,2,figsize = (13,12))\n",
    "sns.scatterplot(data=atomic_representation_averaged,y=atomic_representation_averaged.index,x='X1',style='Categories',hue='Categories',ax = axs[0])\n",
    "axs[0].set_title('Atomic Latent Space',fontdict={'fontsize':18})\n",
    "axs[0].set_xlabel(r'$X_1$',fontdict={'fontsize':14})\n",
    "axs[0].set_ylabel('Atomic number',fontdict={'fontsize':14})\n",
    "axs[0].set_yticks([])\n",
    "axs[0].invert_yaxis()\n",
    "\n",
    "for line in range(0,atomic_representation_averaged.shape[0]):\n",
    "     axs[0].text(x = atomic_representation_averaged.iloc[line,0] + 0.02,\n",
    "                 y = atomic_representation_averaged.index[line],\n",
    "                 s = mendeleev.element(line+1).symbol,\n",
    "                 fontsize = 8,\n",
    "                )\n",
    "\n",
    "sns.histplot(data=molecular_representation_averaged,x='X1',hue='Critical temperature',ax=axs[1])\n",
    "axs[1].set_xlim([-30,10])\n",
    "axs[1].set_title('Molecular Latent Space',fontdict={'fontsize':18})\n",
    "axs[1].set_xlabel(r'$X_1$',fontdict={'fontsize':14})\n",
    "axs[1].legend({'Supercontuctor':1,'Non Superconductor':0})\n",
    "#fig.savefig('/home/claudio/art_cls_latent_space.png')"
   ]
  },
  {
   "cell_type": "code",
   "execution_count": 3,
   "metadata": {},
   "outputs": [],
   "source": [
    "molecular_representation = [pd.read_csv('../data/experiments/dati_articolo/latent_space/01_reversed_bidimensional_molecules_regression'+str(i)+'.csv') for i in range(50)]\n",
    "for i in range(0,len(molecular_representation)):\n",
    "    molecular_representation[i]['X1'] = list(map(lambda x: float(x.strip('[]')),molecular_representation[i]['X1'].values))\n",
    "\n",
    "molecular_representation_sorted = []\n",
    "\n",
    "for mol in molecular_representation:\n",
    "    factor_X1 = 1\n",
    "\n",
    "    if (mol[mol['Critical temperature'] < 10.0]['X1'] > 0).sum() > 1000:\n",
    "        factor_X1 = -1\n",
    "\n",
    "    molecular_representation_sorted.append(mol[['X1','Critical temperature']] * [factor_X1,1])\n",
    "\n",
    "molecular_representation_averaged = sum(molecular_representation_sorted)/len(molecular_representation_sorted)"
   ]
  },
  {
   "cell_type": "code",
   "execution_count": 4,
   "metadata": {},
   "outputs": [],
   "source": [
    "#Critical Temperature contain the high critical temperature and the low ones with a threshold setted to 10\n",
    "molecular_representation_averaged['Critical Temperature'] = (molecular_representation_averaged['Critical temperature']>10).astype(int)"
   ]
  },
  {
   "cell_type": "code",
   "execution_count": 31,
   "metadata": {},
   "outputs": [],
   "source": [
    "X_pred = (molecular_representation_averaged['X1']>-2.5).astype(int)"
   ]
  },
  {
   "cell_type": "code",
   "execution_count": 32,
   "metadata": {},
   "outputs": [
    {
     "data": {
      "text/plain": [
       "0.8366387990480258"
      ]
     },
     "execution_count": 32,
     "metadata": {},
     "output_type": "execute_result"
    }
   ],
   "source": [
    "from sklearn.metrics import accuracy_score\n",
    "\n",
    "accuracy_score(molecular_representation_averaged['Critical Temperature'], X_pred)"
   ]
  },
  {
   "cell_type": "markdown",
   "metadata": {},
   "source": [
    "# Histogram of Superconductors  with high  critical temperature and with low critical tempearture\n"
   ]
  },
  {
   "cell_type": "code",
   "execution_count": null,
   "metadata": {},
   "outputs": [],
   "source": [
    "fig,ax = plt.subplots()\n",
    "sns.histplot(data=molecular_representation_averaged,x='X1',hue='Critical Temperature',ax=ax)\n",
    "ax.set_xlim([-40,30])\n",
    "ax.set_xlabel(r'$X_1$',fontdict={'fontsize':14})\n",
    "ax.legend(labels = ['High temperature','Low temperature'])"
   ]
  },
  {
   "cell_type": "code",
   "execution_count": null,
   "metadata": {},
   "outputs": [],
   "source": [
    "atomic_representation = [pd.read_csv('../data/experiments/dati_articolo/latent_space/01_reversed_bidimensional_atom_regression'+str(i)+'.csv') for i in range(50)]\n",
    "atomic_representation_sorted = []\n",
    "\n",
    "for index,mol in enumerate(molecular_representation):\n",
    "    factor_X1 = 1\n",
    "\n",
    "    if (mol[mol['Critical temperature'] < 10.0]['X1']<0).sum() > 1000:\n",
    "        factor_X1 = -1\n",
    "\n",
    "    atomic_representation_sorted.append(atomic_representation[index]*factor_X1)\n",
    "\n",
    "atomic_representation_averaged = sum(atomic_representation_sorted)/len(atomic_representation_sorted)\n",
    "atomic_representation_averaged['Categories'] = atomic_categories"
   ]
  },
  {
   "cell_type": "markdown",
   "metadata": {},
   "source": [
    "# Atomic & Molecular Latent Space for regressor"
   ]
  },
  {
   "cell_type": "code",
   "execution_count": null,
   "metadata": {},
   "outputs": [],
   "source": [
    "\n",
    "atomic_representation_averaged = pd.read_csv('../data/experiments/dati_articolo/rgr_avg_features.csv',index_col=0)\n",
    "atomic_representation_averaged = -1* atomic_representation_averaged\n",
    "atomic_representation_averaged['Categories'] = atomic_categories"
   ]
  },
  {
   "cell_type": "code",
   "execution_count": null,
   "metadata": {},
   "outputs": [],
   "source": [
    "fig, axs = plt.subplots(1,2,figsize = (13,12))\n",
    "sns.scatterplot(data=atomic_representation_averaged,y=atomic_representation_averaged.index,x='X',style='Categories',hue='Categories',ax = axs[0])\n",
    "axs[0].set_title('Atomic Latent Space',fontdict={'fontsize':18})\n",
    "axs[0].set_xlabel(r'$X_1$',fontdict={'fontsize':14})\n",
    "axs[0].set_ylabel('Atomic number',fontdict={'fontsize':14})\n",
    "axs[0].set_yticks([])\n",
    "\n",
    "for line in range(0,atomic_representation_averaged.shape[0]):\n",
    "    axs[0].text(x = atomic_representation_averaged.iloc[line,0] + 0.02,\n",
    "                y = atomic_representation_averaged.index[line],\n",
    "                s = mendeleev.element(line+1).symbol,\n",
    "                )\n",
    "sns.histplot(data=molecular_representation_averaged,x='X1',hue='Critical Temperature',ax=axs[1])\n",
    "axs[1].set_xlim([-50,20])\n",
    "axs[1].legend(labels = ['High temperature','Low temperature'])\n",
    "axs[1].set_title('Molecular Latent Space',fontdict={'fontsize':18})\n",
    "axs[1].set_xlabel(r'$X_1$',fontdict={'fontsize':14})\n",
    "axs[1].legend(['High temperature','Low temperature'])\n",
    "#fig.savefig('/home/claudio/art_rgr_latent_space.png')"
   ]
  },
  {
   "cell_type": "code",
   "execution_count": null,
   "metadata": {},
   "outputs": [],
   "source": []
  }
 ],
 "metadata": {
  "jupytext": {
   "formats": "ipynb,py:percent"
  },
  "kernelspec": {
   "display_name": "Python 3",
   "language": "python",
   "name": "python3"
  },
  "language_info": {
   "codemirror_mode": {
    "name": "ipython",
    "version": 3
   },
   "file_extension": ".py",
   "mimetype": "text/x-python",
   "name": "python",
   "nbconvert_exporter": "python",
   "pygments_lexer": "ipython3",
   "version": "3.6.9"
  }
 },
 "nbformat": 4,
 "nbformat_minor": 4
}
