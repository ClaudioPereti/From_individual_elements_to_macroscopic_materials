{
 "cells": [
  {
   "cell_type": "code",
   "execution_count": 133,
   "metadata": {},
   "outputs": [],
   "source": [
    "#python==3.6.9\n",
    "#pandas==1.1.5 \n",
    "#scikit_learn==0.22.1\n",
    "#seaborn==0.11.0\n",
    "import pandas as pd\n",
    "import seaborn as sns\n",
    "import matplotlib.pyplot as plt"
   ]
  },
  {
   "cell_type": "code",
   "execution_count": 116,
   "metadata": {},
   "outputs": [
    {
     "data": {
      "text/html": [
       "<div>\n",
       "<style scoped>\n",
       "    .dataframe tbody tr th:only-of-type {\n",
       "        vertical-align: middle;\n",
       "    }\n",
       "\n",
       "    .dataframe tbody tr th {\n",
       "        vertical-align: top;\n",
       "    }\n",
       "\n",
       "    .dataframe thead th {\n",
       "        text-align: right;\n",
       "    }\n",
       "</style>\n",
       "<table border=\"1\" class=\"dataframe\">\n",
       "  <thead>\n",
       "    <tr style=\"text-align: right;\">\n",
       "      <th></th>\n",
       "      <th>age</th>\n",
       "      <th>job</th>\n",
       "      <th>marital</th>\n",
       "      <th>education</th>\n",
       "      <th>default</th>\n",
       "      <th>balance</th>\n",
       "      <th>housing</th>\n",
       "      <th>loan</th>\n",
       "      <th>contact</th>\n",
       "      <th>day</th>\n",
       "      <th>month</th>\n",
       "      <th>campaign</th>\n",
       "      <th>pdays</th>\n",
       "      <th>previous</th>\n",
       "      <th>Location</th>\n",
       "      <th>poutcome</th>\n",
       "      <th>y</th>\n",
       "    </tr>\n",
       "  </thead>\n",
       "  <tbody>\n",
       "    <tr>\n",
       "      <th>0</th>\n",
       "      <td>58.0</td>\n",
       "      <td>management</td>\n",
       "      <td>married</td>\n",
       "      <td>tertiary</td>\n",
       "      <td>no</td>\n",
       "      <td>2143</td>\n",
       "      <td>yes</td>\n",
       "      <td>no</td>\n",
       "      <td>unknown</td>\n",
       "      <td>5</td>\n",
       "      <td>may</td>\n",
       "      <td>1</td>\n",
       "      <td>-1</td>\n",
       "      <td>0</td>\n",
       "      <td>Naples</td>\n",
       "      <td>unknown</td>\n",
       "      <td>no</td>\n",
       "    </tr>\n",
       "    <tr>\n",
       "      <th>1</th>\n",
       "      <td>44.0</td>\n",
       "      <td>technician</td>\n",
       "      <td>single</td>\n",
       "      <td>secondary</td>\n",
       "      <td>no</td>\n",
       "      <td>29</td>\n",
       "      <td>yes</td>\n",
       "      <td>no</td>\n",
       "      <td>unknown</td>\n",
       "      <td>5</td>\n",
       "      <td>may</td>\n",
       "      <td>1</td>\n",
       "      <td>-1</td>\n",
       "      <td>0</td>\n",
       "      <td>Firenze</td>\n",
       "      <td>unknown</td>\n",
       "      <td>no</td>\n",
       "    </tr>\n",
       "    <tr>\n",
       "      <th>2</th>\n",
       "      <td>33.0</td>\n",
       "      <td>entrepreneur</td>\n",
       "      <td>married</td>\n",
       "      <td>secondary</td>\n",
       "      <td>no</td>\n",
       "      <td>2</td>\n",
       "      <td>yes</td>\n",
       "      <td>yes</td>\n",
       "      <td>unknown</td>\n",
       "      <td>5</td>\n",
       "      <td>may</td>\n",
       "      <td>1</td>\n",
       "      <td>-1</td>\n",
       "      <td>0</td>\n",
       "      <td>Milano</td>\n",
       "      <td>unknown</td>\n",
       "      <td>no</td>\n",
       "    </tr>\n",
       "    <tr>\n",
       "      <th>3</th>\n",
       "      <td>47.0</td>\n",
       "      <td>blue-collar</td>\n",
       "      <td>married</td>\n",
       "      <td>unknown</td>\n",
       "      <td>no</td>\n",
       "      <td>1506</td>\n",
       "      <td>yes</td>\n",
       "      <td>no</td>\n",
       "      <td>unknown</td>\n",
       "      <td>5</td>\n",
       "      <td>may</td>\n",
       "      <td>1</td>\n",
       "      <td>-1</td>\n",
       "      <td>0</td>\n",
       "      <td>Naples</td>\n",
       "      <td>unknown</td>\n",
       "      <td>no</td>\n",
       "    </tr>\n",
       "    <tr>\n",
       "      <th>4</th>\n",
       "      <td>33.0</td>\n",
       "      <td>unknown</td>\n",
       "      <td>single</td>\n",
       "      <td>unknown</td>\n",
       "      <td>no</td>\n",
       "      <td>1</td>\n",
       "      <td>no</td>\n",
       "      <td>no</td>\n",
       "      <td>unknown</td>\n",
       "      <td>5</td>\n",
       "      <td>may</td>\n",
       "      <td>1</td>\n",
       "      <td>-1</td>\n",
       "      <td>0</td>\n",
       "      <td>Napoli</td>\n",
       "      <td>unknown</td>\n",
       "      <td>no</td>\n",
       "    </tr>\n",
       "  </tbody>\n",
       "</table>\n",
       "</div>"
      ],
      "text/plain": [
       "    age           job  marital  education default  balance housing loan  \\\n",
       "0  58.0    management  married   tertiary      no     2143     yes   no   \n",
       "1  44.0    technician   single  secondary      no       29     yes   no   \n",
       "2  33.0  entrepreneur  married  secondary      no        2     yes  yes   \n",
       "3  47.0   blue-collar  married    unknown      no     1506     yes   no   \n",
       "4  33.0       unknown   single    unknown      no        1      no   no   \n",
       "\n",
       "   contact  day month  campaign  pdays  previous Location poutcome   y  \n",
       "0  unknown    5   may         1     -1         0   Naples  unknown  no  \n",
       "1  unknown    5   may         1     -1         0  Firenze  unknown  no  \n",
       "2  unknown    5   may         1     -1         0   Milano  unknown  no  \n",
       "3  unknown    5   may         1     -1         0   Naples  unknown  no  \n",
       "4  unknown    5   may         1     -1         0   Napoli  unknown  no  "
      ]
     },
     "execution_count": 116,
     "metadata": {},
     "output_type": "execute_result"
    }
   ],
   "source": [
    "marketing_data = pd.read_csv('marketing_data.csv')\n",
    "#Ispezioniamo visivamente le prime righe del dataset\n",
    "marketing_data.head()"
   ]
  },
  {
   "cell_type": "code",
   "execution_count": 117,
   "metadata": {},
   "outputs": [
    {
     "name": "stdout",
     "output_type": "stream",
     "text": [
      "<class 'pandas.core.frame.DataFrame'>\n",
      "RangeIndex: 43097 entries, 0 to 43096\n",
      "Data columns (total 17 columns):\n",
      " #   Column     Non-Null Count  Dtype  \n",
      "---  ------     --------------  -----  \n",
      " 0   age        43074 non-null  float64\n",
      " 1   job        43097 non-null  object \n",
      " 2   marital    43097 non-null  object \n",
      " 3   education  43097 non-null  object \n",
      " 4   default    43097 non-null  object \n",
      " 5   balance    43097 non-null  int64  \n",
      " 6   housing    43097 non-null  object \n",
      " 7   loan       43097 non-null  object \n",
      " 8   contact    43039 non-null  object \n",
      " 9   day        43097 non-null  int64  \n",
      " 10  month      43097 non-null  object \n",
      " 11  campaign   43097 non-null  int64  \n",
      " 12  pdays      43097 non-null  int64  \n",
      " 13  previous   43097 non-null  int64  \n",
      " 14  Location   43097 non-null  object \n",
      " 15  poutcome   43087 non-null  object \n",
      " 16  y          43097 non-null  object \n",
      "dtypes: float64(1), int64(5), object(11)\n",
      "memory usage: 5.6+ MB\n"
     ]
    }
   ],
   "source": [
    "marketing_data.info()"
   ]
  },
  {
   "cell_type": "code",
   "execution_count": 118,
   "metadata": {},
   "outputs": [
    {
     "data": {
      "text/plain": [
       "age              0\n",
       "job            279\n",
       "marital          0\n",
       "education     1755\n",
       "default          0\n",
       "balance          0\n",
       "housing          0\n",
       "loan             0\n",
       "contact      12719\n",
       "day              0\n",
       "month            0\n",
       "campaign         0\n",
       "pdays            0\n",
       "previous         0\n",
       "Location         0\n",
       "poutcome     35598\n",
       "y                0\n",
       "dtype: int64"
      ]
     },
     "execution_count": 118,
     "metadata": {},
     "output_type": "execute_result"
    }
   ],
   "source": [
    "#Cerchiamo quanti unknown ci sono e li contiamo \n",
    "(marketing_data == 'unknown').sum()"
   ]
  },
  {
   "cell_type": "markdown",
   "metadata": {},
   "source": [
    "Abbiamo un dataset contenente 43097 campioni, 15 istanze per campione ed una variabile dicotomica (y={0,1}) come target. Più campioni possono riferirsi alla stessa persona. \n",
    "Non sono stati registrati i seguenti dati: \n",
    "- 23 age\n",
    "- 58 contact\n",
    "- 10 poutcome\n",
    "\n",
    "Oltre a queste alcune istanze ammettono la voce 'unknown'  che andrà trattata come un dato mancante. Si aggiungono quindi:\n",
    "\n",
    "- 279 job\n",
    "- 1755 education\n",
    "- 35598 poutcome\n",
    "\n",
    "Mancando ~80% delle entrate di poutcome decidiamo di eliminarlo dalla nostra analisi e di non utilizzarlo per lo sviluppo di un modello predittivo."
   ]
  },
  {
   "cell_type": "code",
   "execution_count": 119,
   "metadata": {},
   "outputs": [],
   "source": [
    "marketing_data = marketing_data.drop(columns= ['poutcome'])"
   ]
  },
  {
   "cell_type": "markdown",
   "metadata": {},
   "source": [
    "Passiamo ora alla caratterizzazione del dataset utilizzato con gli strumenti della statistica descrittiva.\n",
    "Analizziamo la variabile target y"
   ]
  },
  {
   "cell_type": "code",
   "execution_count": 120,
   "metadata": {},
   "outputs": [
    {
     "data": {
      "text/plain": [
       "no     39925\n",
       "yes     3172\n",
       "Name: y, dtype: int64"
      ]
     },
     "execution_count": 120,
     "metadata": {},
     "output_type": "execute_result"
    },
    {
     "data": {
      "image/png": "[encoded data removed]",
      "text/plain": [
       "<Figure size 432x288 with 1 Axes>"
      ]
     },
     "metadata": {
      "needs_background": "light"
     },
     "output_type": "display_data"
    }
   ],
   "source": [
    "y = marketing_data['y']\n",
    "y.hist()\n",
    "y.value_counts()"
   ]
  },
  {
   "cell_type": "markdown",
   "metadata": {},
   "source": [
    "Abbiamo un problema fortemente sbilanciato, nel quale la quasi totalità dei campioni ha target no.\n",
    "Dovremo tenere di conto di questo aspetto per la creazione del modello, sia nelle scelte delle metriche da utilizzare, sia eventualmente nel quantitativo di dati da impiegare in fase di addestramento. Per le metriche conviene utilizzare precision e recall. Scegliere il modello migliore è un riflesso delle esigenze del cliente. Se vuole ridurre il numero dei falsi positivi che caratterizzera il modello, quindi ridurre i costi della campagna, dovremo prilivegiare la precision. Se il cliente vuole massimizzare i suoi ricavi, quindi acquistare più clienti possibili, premieremo la recall. Se sottocampioniamo il campione dei dati con yes, potremmo utilizzare accuracy per scegliere un modello rispetto ad un altro ma perderemmo la granularità della analisi che abbiamo con precision o recall. La scelta della strategia valutativa dipende fortemente dalle esigenze del cliente."
   ]
  },
  {
   "cell_type": "markdown",
   "metadata": {},
   "source": [
    "Caratterizziamo con una analisi monodimensionale le istanze del dataset"
   ]
  },
  {
   "cell_type": "markdown",
   "metadata": {},
   "source": [
    "# Variabili numeriche"
   ]
  },
  {
   "cell_type": "code",
   "execution_count": 121,
   "metadata": {},
   "outputs": [
    {
     "data": {
      "text/html": [
       "<div>\n",
       "<style scoped>\n",
       "    .dataframe tbody tr th:only-of-type {\n",
       "        vertical-align: middle;\n",
       "    }\n",
       "\n",
       "    .dataframe tbody tr th {\n",
       "        vertical-align: top;\n",
       "    }\n",
       "\n",
       "    .dataframe thead th {\n",
       "        text-align: right;\n",
       "    }\n",
       "</style>\n",
       "<table border=\"1\" class=\"dataframe\">\n",
       "  <thead>\n",
       "    <tr style=\"text-align: right;\">\n",
       "      <th></th>\n",
       "      <th>age</th>\n",
       "      <th>balance</th>\n",
       "      <th>day</th>\n",
       "      <th>campaign</th>\n",
       "      <th>pdays</th>\n",
       "      <th>previous</th>\n",
       "    </tr>\n",
       "  </thead>\n",
       "  <tbody>\n",
       "    <tr>\n",
       "      <th>count</th>\n",
       "      <td>43074.000000</td>\n",
       "      <td>43097.000000</td>\n",
       "      <td>43097.000000</td>\n",
       "      <td>43097.000000</td>\n",
       "      <td>43097.000000</td>\n",
       "      <td>43097.000000</td>\n",
       "    </tr>\n",
       "    <tr>\n",
       "      <th>mean</th>\n",
       "      <td>41.297674</td>\n",
       "      <td>1342.323596</td>\n",
       "      <td>15.858157</td>\n",
       "      <td>2.796622</td>\n",
       "      <td>38.725155</td>\n",
       "      <td>0.550154</td>\n",
       "    </tr>\n",
       "    <tr>\n",
       "      <th>std</th>\n",
       "      <td>12.240857</td>\n",
       "      <td>2990.087062</td>\n",
       "      <td>8.429079</td>\n",
       "      <td>3.144191</td>\n",
       "      <td>98.700477</td>\n",
       "      <td>2.280486</td>\n",
       "    </tr>\n",
       "    <tr>\n",
       "      <th>min</th>\n",
       "      <td>18.000000</td>\n",
       "      <td>-8019.000000</td>\n",
       "      <td>1.000000</td>\n",
       "      <td>1.000000</td>\n",
       "      <td>-1.000000</td>\n",
       "      <td>0.000000</td>\n",
       "    </tr>\n",
       "    <tr>\n",
       "      <th>25%</th>\n",
       "      <td>33.000000</td>\n",
       "      <td>67.000000</td>\n",
       "      <td>8.000000</td>\n",
       "      <td>1.000000</td>\n",
       "      <td>-1.000000</td>\n",
       "      <td>0.000000</td>\n",
       "    </tr>\n",
       "    <tr>\n",
       "      <th>50%</th>\n",
       "      <td>39.000000</td>\n",
       "      <td>437.000000</td>\n",
       "      <td>16.000000</td>\n",
       "      <td>2.000000</td>\n",
       "      <td>-1.000000</td>\n",
       "      <td>0.000000</td>\n",
       "    </tr>\n",
       "    <tr>\n",
       "      <th>75%</th>\n",
       "      <td>48.000000</td>\n",
       "      <td>1400.000000</td>\n",
       "      <td>21.000000</td>\n",
       "      <td>3.000000</td>\n",
       "      <td>-1.000000</td>\n",
       "      <td>0.000000</td>\n",
       "    </tr>\n",
       "    <tr>\n",
       "      <th>max</th>\n",
       "      <td>150.000000</td>\n",
       "      <td>102127.000000</td>\n",
       "      <td>99.000000</td>\n",
       "      <td>63.000000</td>\n",
       "      <td>871.000000</td>\n",
       "      <td>275.000000</td>\n",
       "    </tr>\n",
       "  </tbody>\n",
       "</table>\n",
       "</div>"
      ],
      "text/plain": [
       "                age        balance           day      campaign         pdays  \\\n",
       "count  43074.000000   43097.000000  43097.000000  43097.000000  43097.000000   \n",
       "mean      41.297674    1342.323596     15.858157      2.796622     38.725155   \n",
       "std       12.240857    2990.087062      8.429079      3.144191     98.700477   \n",
       "min       18.000000   -8019.000000      1.000000      1.000000     -1.000000   \n",
       "25%       33.000000      67.000000      8.000000      1.000000     -1.000000   \n",
       "50%       39.000000     437.000000     16.000000      2.000000     -1.000000   \n",
       "75%       48.000000    1400.000000     21.000000      3.000000     -1.000000   \n",
       "max      150.000000  102127.000000     99.000000     63.000000    871.000000   \n",
       "\n",
       "           previous  \n",
       "count  43097.000000  \n",
       "mean       0.550154  \n",
       "std        2.280486  \n",
       "min        0.000000  \n",
       "25%        0.000000  \n",
       "50%        0.000000  \n",
       "75%        0.000000  \n",
       "max      275.000000  "
      ]
     },
     "execution_count": 121,
     "metadata": {},
     "output_type": "execute_result"
    }
   ],
   "source": [
    "marketing_data.describe()"
   ]
  },
  {
   "cell_type": "code",
   "execution_count": 122,
   "metadata": {},
   "outputs": [
    {
     "data": {
      "text/plain": [
       "<matplotlib.axes._subplots.AxesSubplot at 0x7f39fdba9710>"
      ]
     },
     "execution_count": 122,
     "metadata": {},
     "output_type": "execute_result"
    },
    {
     "data": {
      "image/png": "[encoded data removed]",
      "text/plain": [
       "<Figure size 432x288 with 1 Axes>"
      ]
     },
     "metadata": {
      "needs_background": "light"
     },
     "output_type": "display_data"
    }
   ],
   "source": [
    "marketing_data['age'].hist()"
   ]
  },
  {
   "cell_type": "code",
   "execution_count": 123,
   "metadata": {},
   "outputs": [
    {
     "data": {
      "text/plain": [
       "<matplotlib.axes._subplots.AxesSubplot at 0x7f39fdb66940>"
      ]
     },
     "execution_count": 123,
     "metadata": {},
     "output_type": "execute_result"
    },
    {
     "data": {
      "image/png": "[encoded data removed]",
      "text/plain": [
       "<Figure size 432x288 with 1 Axes>"
      ]
     },
     "metadata": {
      "needs_background": "light"
     },
     "output_type": "display_data"
    }
   ],
   "source": [
    "sns.boxplot(data=marketing_data, x = 'age')"
   ]
  },
  {
   "cell_type": "code",
   "execution_count": 124,
   "metadata": {},
   "outputs": [
    {
     "data": {
      "text/plain": [
       "<matplotlib.axes._subplots.AxesSubplot at 0x7f39fdb039e8>"
      ]
     },
     "execution_count": 124,
     "metadata": {},
     "output_type": "execute_result"
    },
    {
     "data": {
      "image/png": "[encoded data removed]",
      "text/plain": [
       "<Figure size 432x288 with 1 Axes>"
      ]
     },
     "metadata": {
      "needs_background": "light"
     },
     "output_type": "display_data"
    }
   ],
   "source": [
    "sns.boxplot(data=marketing_data, x = 'age',y = y)"
   ]
  },
  {
   "cell_type": "markdown",
   "metadata": {},
   "source": [
    "Analizzando l'età delle persone nel campine notiamo come la maggior parte delle persone (~ 50%) sia compresa fra i 30 e 50 anni. Nessuna persona è minorenne come ci possiamo aspettare. Abbiamo inoltre degli outliers di oltre 100 anni che scarteremo dal dataset. Assumo non si considerino eventuali leggi che limitino la possibilità di fare depositi a termine a seconda della età. Utilizzando IQR nel boxplot si indentificano possibili outliers per età maggiori di 70 anni. Persone sopra i 70 sono più inclini a fare un deposito rispetto a non farlo ma si parla comunque di piccoli numeri. Li escludo per la creazione del modello. "
   ]
  },
  {
   "cell_type": "code",
   "execution_count": 125,
   "metadata": {},
   "outputs": [],
   "source": [
    "#Il numero di persone escluse su base di età è 496\n",
    "(marketing_data['age']>70).sum()\n",
    "marketing_data = marketing_data[marketing_data['age']<70]"
   ]
  },
  {
   "cell_type": "code",
   "execution_count": 126,
   "metadata": {},
   "outputs": [
    {
     "data": {
      "text/plain": [
       "<matplotlib.axes._subplots.AxesSubplot at 0x7f39fda7ce48>"
      ]
     },
     "execution_count": 126,
     "metadata": {},
     "output_type": "execute_result"
    },
    {
     "data": {
      "image/png": "[encoded data removed]",
      "text/plain": [
       "<Figure size 432x288 with 1 Axes>"
      ]
     },
     "metadata": {
      "needs_background": "light"
     },
     "output_type": "display_data"
    }
   ],
   "source": [
    "#Distribuzione difficile da leggere. Esistono persone molte ricche, non necessariamente outliers \n",
    "sns.histplot(marketing_data['balance'])"
   ]
  },
  {
   "cell_type": "code",
   "execution_count": 127,
   "metadata": {},
   "outputs": [
    {
     "data": {
      "text/plain": [
       "<matplotlib.axes._subplots.AxesSubplot at 0x7f39fcc0d390>"
      ]
     },
     "execution_count": 127,
     "metadata": {},
     "output_type": "execute_result"
    },
    {
     "data": {
      "image/png": "[encoded data removed]",
      "text/plain": [
       "<Figure size 432x288 with 1 Axes>"
      ]
     },
     "metadata": {
      "needs_background": "light"
     },
     "output_type": "display_data"
    }
   ],
   "source": [
    "sns.boxplot(x =marketing_data['balance'][marketing_data['balance']<1400])"
   ]
  },
  {
   "cell_type": "markdown",
   "metadata": {},
   "source": [
    "Possiamo ipotizzare che questa variabile sia importante dato il compito ma la sua distribuzione la rende problematica. Devidiamo il balance in 3 classi, negativo, piccolo e grande e guardiamo come sono correlati con il target"
   ]
  },
  {
   "cell_type": "code",
   "execution_count": 129,
   "metadata": {},
   "outputs": [],
   "source": [
    "def discrete_balance(x):\n",
    "    if x < 0:\n",
    "        return -1 #negativ\n",
    "    if x>0 and x < 1400:\n",
    "        return 0 #piccolo\n",
    "    if x > 1400:\n",
    "        return 1 #grande\n",
    "    \n",
    "balance = marketing_data['balance'].map(discrete_balance)"
   ]
  },
  {
   "cell_type": "code",
   "execution_count": 136,
   "metadata": {},
   "outputs": [
    {
     "data": {
      "text/plain": [
       "<matplotlib.axes._subplots.AxesSubplot at 0x7f39fc7312b0>"
      ]
     },
     "execution_count": 136,
     "metadata": {},
     "output_type": "execute_result"
    },
    {
     "data": {
      "image/png": "[encoded data removed]",
      "text/plain": [
       "<Figure size 432x288 with 3 Axes>"
      ]
     },
     "metadata": {
      "needs_background": "light"
     },
     "output_type": "display_data"
    }
   ],
   "source": [
    "fig, ax = plt.subplots(3)\n",
    "marketing_data[balance==1]['y'].hist(ax=ax[0])\n",
    "marketing_data[balance==0]['y'].hist(ax=ax[1])\n",
    "marketing_data[balance==-1]['y'].hist(ax=ax[2])"
   ]
  },
  {
   "cell_type": "code",
   "execution_count": 151,
   "metadata": {},
   "outputs": [
    {
     "name": "stdout",
     "output_type": "stream",
     "text": [
      "percentuale persone con balance grande che fanno un deposito: 0.0999334410953694\n",
      "percentuale persone con balance piccolo che fanno un deposito: 0.06671472048694538\n",
      "percentuale persone con balance  negativo che fanno un deposito: 0.033478497550353835\n"
     ]
    }
   ],
   "source": [
    "print(f\"percentuale persone con balance grande che fanno un deposito: {(marketing_data[balance==1]['y']=='yes').sum()/marketing_data[balance==1].shape[0]}\\npercentuale persone con balance piccolo che fanno un deposito: {(marketing_data[balance==0]['y']=='yes').sum()/marketing_data[balance==0].shape[0]}\\npercentuale persone con balance  negativo che fanno un deposito: {(marketing_data[balance==-1]['y']=='yes').sum()/marketing_data[balance==-1].shape[0]}\")"
   ]
  },
  {
   "cell_type": "markdown",
   "metadata": {},
   "source": [
    "Il rate di persone che effettua un deposito a termine è piccolo per tutte e tre le classi ma è 3 volte più grande per quelle con balance grande rispetto a quelle con balance negativo"
   ]
  },
  {
   "cell_type": "code",
   "execution_count": 153,
   "metadata": {},
   "outputs": [
    {
     "data": {
      "text/plain": [
       "<matplotlib.axes._subplots.AxesSubplot at 0x7f39fc6bbef0>"
      ]
     },
     "execution_count": 153,
     "metadata": {},
     "output_type": "execute_result"
    },
    {
     "data": {
      "image/png": "[encoded data removed]",
      "text/plain": [
       "<Figure size 432x288 with 1 Axes>"
      ]
     },
     "metadata": {
      "needs_background": "light"
     },
     "output_type": "display_data"
    }
   ],
   "source": [
    "marketing_data['day'].hist()"
   ]
  },
  {
   "cell_type": "code",
   "execution_count": 194,
   "metadata": {},
   "outputs": [
    {
     "name": "stderr",
     "output_type": "stream",
     "text": [
      "/home/claudio/venv/lib/python3.6/site-packages/ipykernel_launcher.py:2: UserWarning: Boolean Series key will be reindexed to match DataFrame index.\n",
      "  \n",
      "/home/claudio/venv/lib/python3.6/site-packages/seaborn/_decorators.py:43: FutureWarning: Pass the following variable as a keyword arg: x. From version 0.12, the only valid positional argument will be `data`, and passing other arguments without an explicit keyword will result in an error or misinterpretation.\n",
      "  FutureWarning\n",
      "/home/claudio/venv/lib/python3.6/site-packages/ipykernel_launcher.py:3: UserWarning: Boolean Series key will be reindexed to match DataFrame index.\n",
      "  This is separate from the ipykernel package so we can avoid doing imports until\n",
      "/home/claudio/venv/lib/python3.6/site-packages/seaborn/_decorators.py:43: FutureWarning: Pass the following variable as a keyword arg: x. From version 0.12, the only valid positional argument will be `data`, and passing other arguments without an explicit keyword will result in an error or misinterpretation.\n",
      "  FutureWarning\n"
     ]
    },
    {
     "data": {
      "text/plain": [
       "Text(0, 0.5, 'no')"
      ]
     },
     "execution_count": 194,
     "metadata": {},
     "output_type": "execute_result"
    },
    {
     "data": {
      "image/png": "[encoded data removed]",
      "text/plain": [
       "<Figure size 432x288 with 2 Axes>"
      ]
     },
     "metadata": {
      "needs_background": "light"
     },
     "output_type": "display_data"
    }
   ],
   "source": [
    "fig, ax = plt.subplots(2)\n",
    "sns.boxplot(marketing_data[y == 'yes']['day'],ax=ax[0])\n",
    "sns.boxplot(marketing_data[y == 'no']['day'],ax=ax[1])\n",
    "ax[0].set_ylabel(\"yes\")\n",
    "ax[1].set_ylabel(\"no\")"
   ]
  },
  {
   "cell_type": "markdown",
   "metadata": {},
   "source": [
    "Non sembrano esserci correlazioni fra il numero di giorno dall'ultimo contatto e la possibilità da parte del cliente di sottoscrivere un deposito."
   ]
  },
  {
   "cell_type": "code",
   "execution_count": 176,
   "metadata": {},
   "outputs": [
    {
     "data": {
      "text/plain": [
       "1     16221\n",
       "2     11776\n",
       "3      5231\n",
       "4      3369\n",
       "5      1692\n",
       "6      1235\n",
       "7       716\n",
       "8       526\n",
       "9       321\n",
       "10      258\n",
       "11      195\n",
       "12      152\n",
       "13      130\n",
       "14       92\n",
       "15       83\n",
       "16       77\n",
       "17       66\n",
       "18       50\n",
       "19       44\n",
       "20       43\n",
       "21       34\n",
       "22       23\n",
       "23       22\n",
       "25       22\n",
       "24       20\n",
       "28       16\n",
       "29       16\n",
       "26       13\n",
       "31       12\n",
       "27       10\n",
       "32        9\n",
       "30        8\n",
       "33        6\n",
       "34        5\n",
       "36        4\n",
       "35        4\n",
       "43        3\n",
       "38        3\n",
       "41        2\n",
       "50        2\n",
       "37        2\n",
       "51        1\n",
       "55        1\n",
       "46        1\n",
       "58        1\n",
       "44        1\n",
       "39        1\n",
       "63        1\n",
       "Name: campaign, dtype: int64"
      ]
     },
     "execution_count": 176,
     "metadata": {},
     "output_type": "execute_result"
    }
   ],
   "source": [
    "marketing_data['campaign'].value_counts()"
   ]
  },
  {
   "cell_type": "code",
   "execution_count": 178,
   "metadata": {},
   "outputs": [
    {
     "data": {
      "text/plain": [
       "([<matplotlib.patches.Wedge at 0x7f39fb972710>,\n",
       "  <matplotlib.patches.Wedge at 0x7f39fb972be0>,\n",
       "  <matplotlib.patches.Wedge at 0x7f39fb97d0b8>,\n",
       "  <matplotlib.patches.Wedge at 0x7f39fb97d550>,\n",
       "  <matplotlib.patches.Wedge at 0x7f39fb97d9e8>,\n",
       "  <matplotlib.patches.Wedge at 0x7f39fb97de80>,\n",
       "  <matplotlib.patches.Wedge at 0x7f39fb988358>,\n",
       "  <matplotlib.patches.Wedge at 0x7f39fb9887f0>,\n",
       "  <matplotlib.patches.Wedge at 0x7f39fb988c88>,\n",
       "  <matplotlib.patches.Wedge at 0x7f39fb917160>,\n",
       "  <matplotlib.patches.Wedge at 0x7f39fbb294e0>,\n",
       "  <matplotlib.patches.Wedge at 0x7f39fb917a58>,\n",
       "  <matplotlib.patches.Wedge at 0x7f39fb917ef0>,\n",
       "  <matplotlib.patches.Wedge at 0x7f39fb9233c8>,\n",
       "  <matplotlib.patches.Wedge at 0x7f39fb923860>,\n",
       "  <matplotlib.patches.Wedge at 0x7f39fb923cf8>,\n",
       "  <matplotlib.patches.Wedge at 0x7f39fb92f1d0>,\n",
       "  <matplotlib.patches.Wedge at 0x7f39fb92f668>,\n",
       "  <matplotlib.patches.Wedge at 0x7f39fb92fb00>,\n",
       "  <matplotlib.patches.Wedge at 0x7f39fb92ff98>,\n",
       "  <matplotlib.patches.Wedge at 0x7f39fb93b470>,\n",
       "  <matplotlib.patches.Wedge at 0x7f39fb93b908>,\n",
       "  <matplotlib.patches.Wedge at 0x7f39fb93bda0>,\n",
       "  <matplotlib.patches.Wedge at 0x7f39fb946278>,\n",
       "  <matplotlib.patches.Wedge at 0x7f39fb946710>,\n",
       "  <matplotlib.patches.Wedge at 0x7f39fb946ba8>,\n",
       "  <matplotlib.patches.Wedge at 0x7f39fb8d2080>,\n",
       "  <matplotlib.patches.Wedge at 0x7f39fb8d2518>,\n",
       "  <matplotlib.patches.Wedge at 0x7f39fb8d29b0>,\n",
       "  <matplotlib.patches.Wedge at 0x7f39fb8d2e48>,\n",
       "  <matplotlib.patches.Wedge at 0x7f39fb8df320>,\n",
       "  <matplotlib.patches.Wedge at 0x7f39fb8df7b8>,\n",
       "  <matplotlib.patches.Wedge at 0x7f39fb8dfc50>,\n",
       "  <matplotlib.patches.Wedge at 0x7f39fb8ea128>,\n",
       "  <matplotlib.patches.Wedge at 0x7f39fb8ea5c0>,\n",
       "  <matplotlib.patches.Wedge at 0x7f39fb8eaa58>,\n",
       "  <matplotlib.patches.Wedge at 0x7f39fb8eaef0>,\n",
       "  <matplotlib.patches.Wedge at 0x7f39fb8f73c8>,\n",
       "  <matplotlib.patches.Wedge at 0x7f39fb8f7860>,\n",
       "  <matplotlib.patches.Wedge at 0x7f39fb8f7cf8>,\n",
       "  <matplotlib.patches.Wedge at 0x7f39fb9031d0>,\n",
       "  <matplotlib.patches.Wedge at 0x7f39fb903668>,\n",
       "  <matplotlib.patches.Wedge at 0x7f39fb903b00>,\n",
       "  <matplotlib.patches.Wedge at 0x7f39fb903f98>,\n",
       "  <matplotlib.patches.Wedge at 0x7f39fb90e470>,\n",
       "  <matplotlib.patches.Wedge at 0x7f39fb90e908>,\n",
       "  <matplotlib.patches.Wedge at 0x7f39fb90eda0>,\n",
       "  <matplotlib.patches.Wedge at 0x7f39fb89d278>],\n",
       " [Text(0.40014167619504765, 1.0246397605850643, ''),\n",
       "  Text(-1.091354665482213, -0.13764081564058936, ''),\n",
       "  Text(-0.20642276459304243, -1.0804580705690368, ''),\n",
       "  Text(0.4751265877499283, -0.992096127203967, ''),\n",
       "  Text(0.8046861495898439, -0.7499868003226934, ''),\n",
       "  Text(0.9468741619250275, -0.5598475877225668, ''),\n",
       "  Text(1.0174762587669515, -0.41802160571626884, ''),\n",
       "  Text(1.0515012916164206, -0.3230248190603927, ''),\n",
       "  Text(1.0696448552976112, -0.25663180538536684, ''),\n",
       "  Text(1.0796414547214706, -0.2106521522484562, ''),\n",
       "  Text(1.086085981209541, -0.17440539389625806, ''),\n",
       "  Text(1.090199987359434, -0.14650593012397226, ''),\n",
       "  Text(1.093015672339119, -0.12376081779409882, ''),\n",
       "  Text(1.094898536090949, -0.10581680237985576, ''),\n",
       "  Text(1.0961751747190627, -0.09165143932111887, ''),\n",
       "  Text(1.0971820223841373, -0.07868678260708507, ''),\n",
       "  Text(1.0979521378413233, -0.06709026016992456, ''),\n",
       "  Text(1.0984868135501438, -0.05767772929347791, ''),\n",
       "  Text(1.0988609003814864, -0.05004719385529047, ''),\n",
       "  Text(1.0991598995984475, -0.042982730424332455, ''),\n",
       "  Text(1.0993866455742693, -0.03672878343964259, ''),\n",
       "  Text(1.0995315769827867, -0.03209846129873859, ''),\n",
       "  Text(1.0996322212699794, -0.02844253759514641, ''),\n",
       "  Text(1.0997188753684572, -0.024867552318957598, ''),\n",
       "  Text(1.0997907485822962, -0.021454820735508646, ''),\n",
       "  Text(1.0998439249456866, -0.018529456550774162, ''),\n",
       "  Text(1.0998846604330825, -0.01592902206675283, ''),\n",
       "  Text(1.0999162661967024, -0.013572301054169603, ''),\n",
       "  Text(1.0999394595502083, -0.01154059462922059, ''),\n",
       "  Text(1.0999567653410178, -0.009752660176853818, ''),\n",
       "  Text(1.09996937243585, -0.008208514060579064, ''),\n",
       "  Text(1.0999788150203835, -0.006826895806541234, ''),\n",
       "  Text(1.0999852882285448, -0.005689084352112914, ''),\n",
       "  Text(1.0999895486579387, -0.0047950853281678845, ''),\n",
       "  Text(1.0999924940279322, -0.00406362919195171, ''),\n",
       "  Text(1.0999947038041415, -0.0034134444244727385, ''),\n",
       "  Text(1.099996322102484, -0.0028445317731651347, ''),\n",
       "  Text(1.0999974750249484, -0.002356891753571694, ''),\n",
       "  Text(1.0999982706592595, -0.001950524708495777, ''),\n",
       "  Text(1.0999987990786522, -0.0016254308730822811, ''),\n",
       "  Text(1.0999992314197125, -0.0013003368956970964, ''),\n",
       "  Text(1.0999994926240788, -0.0010565163365704208, ''),\n",
       "  Text(1.0999996367358258, -0.0008939692675762098, ''),\n",
       "  Text(1.0999997568279714, -0.0007314221790603011, ''),\n",
       "  Text(1.0999998529005128, -0.0005688750745740284, ''),\n",
       "  Text(1.099999924953448, -0.0004063279576648178, ''),\n",
       "  Text(1.099999972986775, -0.0002437808318840033, ''),\n",
       "  Text(1.0999999970004937, -8.123370077901152e-05, '')])"
      ]
     },
     "execution_count": 178,
     "metadata": {},
     "output_type": "execute_result"
    },
    {
     "data": {
      "image/png": "[encoded data removed]",
      "text/plain": [
       "<Figure size 432x288 with 1 Axes>"
      ]
     },
     "metadata": {},
     "output_type": "display_data"
    }
   ],
   "source": [
    "plt.pie(marketing_data['campaign'].value_counts())"
   ]
  },
  {
   "cell_type": "markdown",
   "metadata": {},
   "source": [
    "La maggior parte delle volte le persone sono state viste 2 massimo 3 volte."
   ]
  },
  {
   "cell_type": "code",
   "execution_count": 193,
   "metadata": {},
   "outputs": [
    {
     "name": "stderr",
     "output_type": "stream",
     "text": [
      "/home/claudio/venv/lib/python3.6/site-packages/ipykernel_launcher.py:2: UserWarning: Boolean Series key will be reindexed to match DataFrame index.\n",
      "  \n",
      "/home/claudio/venv/lib/python3.6/site-packages/seaborn/_decorators.py:43: FutureWarning: Pass the following variable as a keyword arg: x. From version 0.12, the only valid positional argument will be `data`, and passing other arguments without an explicit keyword will result in an error or misinterpretation.\n",
      "  FutureWarning\n",
      "/home/claudio/venv/lib/python3.6/site-packages/ipykernel_launcher.py:3: UserWarning: Boolean Series key will be reindexed to match DataFrame index.\n",
      "  This is separate from the ipykernel package so we can avoid doing imports until\n",
      "/home/claudio/venv/lib/python3.6/site-packages/seaborn/_decorators.py:43: FutureWarning: Pass the following variable as a keyword arg: x. From version 0.12, the only valid positional argument will be `data`, and passing other arguments without an explicit keyword will result in an error or misinterpretation.\n",
      "  FutureWarning\n"
     ]
    },
    {
     "data": {
      "text/plain": [
       "Text(0, 0.5, 'no')"
      ]
     },
     "execution_count": 193,
     "metadata": {},
     "output_type": "execute_result"
    },
    {
     "data": {
      "image/png": "[encoded data removed]",
      "text/plain": [
       "<Figure size 432x288 with 2 Axes>"
      ]
     },
     "metadata": {
      "needs_background": "light"
     },
     "output_type": "display_data"
    }
   ],
   "source": [
    "fig, ax = plt.subplots(2)\n",
    "sns.boxplot(marketing_data[y == 'yes']['campaign'],ax=ax[0])\n",
    "sns.boxplot(marketing_data[y == 'no']['campaign'],ax=ax[1])\n",
    "ax[0].set_ylabel(\"yes\")\n",
    "ax[1].set_ylabel(\"no\")"
   ]
  },
  {
   "cell_type": "markdown",
   "metadata": {},
   "source": [
    "Sembra ci sia una correlazione positiva nel numero di volte che una persona viene contattata e la probabilità che stipuli con contratto di deposito."
   ]
  },
  {
   "cell_type": "code",
   "execution_count": 197,
   "metadata": {},
   "outputs": [
    {
     "data": {
      "text/plain": [
       "0.8282690498588899"
      ]
     },
     "execution_count": 197,
     "metadata": {},
     "output_type": "execute_result"
    }
   ],
   "source": [
    "(marketing_data['pdays'] == -1).sum()/marketing_data.shape[0]"
   ]
  },
  {
   "cell_type": "markdown",
   "metadata": {},
   "source": [
    "Più dell'80% dei clienti sono stati contattati per la prima volta"
   ]
  },
  {
   "cell_type": "code",
   "execution_count": 200,
   "metadata": {},
   "outputs": [
    {
     "data": {
      "text/plain": [
       "<matplotlib.axes._subplots.AxesSubplot at 0x7f39fb54e320>"
      ]
     },
     "execution_count": 200,
     "metadata": {},
     "output_type": "execute_result"
    },
    {
     "data": {
      "image/png": "[encoded data removed]",
      "text/plain": [
       "<Figure size 432x288 with 1 Axes>"
      ]
     },
     "metadata": {
      "needs_background": "light"
     },
     "output_type": "display_data"
    }
   ],
   "source": [
    "marketing_data[(marketing_data['pdays']>0)]['y'].hist()"
   ]
  },
  {
   "cell_type": "code",
   "execution_count": 214,
   "metadata": {},
   "outputs": [
    {
     "name": "stderr",
     "output_type": "stream",
     "text": [
      "/home/claudio/venv/lib/python3.6/site-packages/ipykernel_launcher.py:1: UserWarning: Boolean Series key will be reindexed to match DataFrame index.\n",
      "  \"\"\"Entry point for launching an IPython kernel.\n",
      "/home/claudio/venv/lib/python3.6/site-packages/ipykernel_launcher.py:2: UserWarning: Boolean Series key will be reindexed to match DataFrame index.\n",
      "  \n"
     ]
    },
    {
     "data": {
      "text/plain": [
       "0.04548447789275635"
      ]
     },
     "execution_count": 214,
     "metadata": {},
     "output_type": "execute_result"
    }
   ],
   "source": [
    "marketing_data[(marketing_data['pdays']>0)][y == 'yes'].shape[0]/marketing_data.shape[0]\n",
    "marketing_data[(marketing_data['pdays']==-1)][y == 'yes'].shape[0]/marketing_data.shape[0]"
   ]
  },
  {
   "cell_type": "markdown",
   "metadata": {},
   "source": [
    "pday non sembra una variabile rilevante"
   ]
  },
  {
   "cell_type": "markdown",
   "metadata": {},
   "source": [
    "Dato il tempo a disposizione stabilirò una baseline e crearò un modello semplice.\n",
    "Come baseline adotto un classificatore naive, per il quale la precisione è di 0.07.\n",
    "Accuracy e recall possono essere calcolate per il modello naive che associa un imput ad una classe con prob 50.\n",
    "Devo effettuare una imputazione per le variabili numeriche e categoriche teendo conto dei risultati, parziali, dell'eda. Per le variabili categoriche utilizzero un one hot encoding nonostante il acluni casi come l'istruzione, il natural encoding potrebbe essere migliore. Sottocampiono i dati relativi al label no così da avere un problem bilanciato su cui addestrare una regressione logistica."
   ]
  },
  {
   "cell_type": "code",
   "execution_count": 224,
   "metadata": {},
   "outputs": [],
   "source": [
    "import numpy as np\n",
    "from sklearn.impute import SimpleImputer\n",
    "from sklearn import preprocessing\n",
    "from sklearn.preprocessing import OneHotEncoder\n",
    "from sklearn.model_selection import train_test_split as sk_train_test_split"
   ]
  },
  {
   "cell_type": "code",
   "execution_count": 227,
   "metadata": {},
   "outputs": [],
   "source": [
    "numerics = ['int16', 'int32', 'int64', 'float16', 'float32', 'float64']\n",
    "\n",
    "numeric_marketing_data = marketing_data.select_dtypes(include=numerics)"
   ]
  },
  {
   "cell_type": "code",
   "execution_count": 230,
   "metadata": {},
   "outputs": [],
   "source": [
    "numeric_marketing_data = numeric_marketing_data.drop(columns = ['day','pdays'])"
   ]
  },
  {
   "cell_type": "code",
   "execution_count": 232,
   "metadata": {},
   "outputs": [],
   "source": [
    "my_imputer = SimpleImputer(strategy='mean')\n",
    "\n",
    "transformer = preprocessing.StandardScaler()\n",
    "imputed_numeric_marketing_data = pd.DataFrame(my_imputer.fit_transform(numeric_marketing_data))\n",
    "imputed_standardized_numeric_marketing_data = pd.DataFrame(transformer.fit_transform(imputed_numeric_marketing_data))\n",
    "\n",
    "\n",
    "imputed_standardized_numeric_marketing_data.columns = numeric_marketing_data.columns"
   ]
  },
  {
   "cell_type": "code",
   "execution_count": 236,
   "metadata": {},
   "outputs": [],
   "source": [
    "cat_marketing_data = marketing_data.drop(columns = numeric_marketing_data.columns)"
   ]
  },
  {
   "cell_type": "code",
   "execution_count": 240,
   "metadata": {},
   "outputs": [],
   "source": [
    "one_hot_encoder = OneHotEncoder(handle_unknown='ignore')\n"
   ]
  },
  {
   "cell_type": "code",
   "execution_count": 244,
   "metadata": {},
   "outputs": [
    {
     "data": {
      "text/html": [
       "<div>\n",
       "<style scoped>\n",
       "    .dataframe tbody tr th:only-of-type {\n",
       "        vertical-align: middle;\n",
       "    }\n",
       "\n",
       "    .dataframe tbody tr th {\n",
       "        vertical-align: top;\n",
       "    }\n",
       "\n",
       "    .dataframe thead th {\n",
       "        text-align: right;\n",
       "    }\n",
       "</style>\n",
       "<table border=\"1\" class=\"dataframe\">\n",
       "  <thead>\n",
       "    <tr style=\"text-align: right;\">\n",
       "      <th></th>\n",
       "      <th>0</th>\n",
       "    </tr>\n",
       "  </thead>\n",
       "  <tbody>\n",
       "    <tr>\n",
       "      <th>0</th>\n",
       "      <td>(0, 4)\\t1.0\\n  (0, 17)\\t1.0\\n  (0, 21)\\t1.0\\...</td>\n",
       "    </tr>\n",
       "    <tr>\n",
       "      <th>1</th>\n",
       "      <td>(0, 9)\\t1.0\\n  (0, 18)\\t1.0\\n  (0, 20)\\t1.0\\...</td>\n",
       "    </tr>\n",
       "    <tr>\n",
       "      <th>2</th>\n",
       "      <td>(0, 2)\\t1.0\\n  (0, 17)\\t1.0\\n  (0, 20)\\t1.0\\...</td>\n",
       "    </tr>\n",
       "    <tr>\n",
       "      <th>3</th>\n",
       "      <td>(0, 1)\\t1.0\\n  (0, 17)\\t1.0\\n  (0, 22)\\t1.0\\...</td>\n",
       "    </tr>\n",
       "    <tr>\n",
       "      <th>4</th>\n",
       "      <td>(0, 11)\\t1.0\\n  (0, 18)\\t1.0\\n  (0, 22)\\t1.0...</td>\n",
       "    </tr>\n",
       "    <tr>\n",
       "      <th>...</th>\n",
       "      <td>...</td>\n",
       "    </tr>\n",
       "    <tr>\n",
       "      <th>43091</th>\n",
       "      <td>(0, 0)\\t1.0\\n  (0, 18)\\t1.0\\n  (0, 20)\\t1.0\\...</td>\n",
       "    </tr>\n",
       "    <tr>\n",
       "      <th>43092</th>\n",
       "      <td>(0, 9)\\t1.0\\n  (0, 18)\\t1.0\\n  (0, 20)\\t1.0\\...</td>\n",
       "    </tr>\n",
       "    <tr>\n",
       "      <th>43093</th>\n",
       "      <td>(0, 9)\\t1.0\\n  (0, 17)\\t1.0\\n  (0, 21)\\t1.0\\...</td>\n",
       "    </tr>\n",
       "    <tr>\n",
       "      <th>43095</th>\n",
       "      <td>(0, 1)\\t1.0\\n  (0, 17)\\t1.0\\n  (0, 20)\\t1.0\\...</td>\n",
       "    </tr>\n",
       "    <tr>\n",
       "      <th>43096</th>\n",
       "      <td>(0, 2)\\t1.0\\n  (0, 17)\\t1.0\\n  (0, 20)\\t1.0\\...</td>\n",
       "    </tr>\n",
       "  </tbody>\n",
       "</table>\n",
       "<p>42520 rows × 1 columns</p>\n",
       "</div>"
      ],
      "text/plain": [
       "                                                       0\n",
       "0        (0, 4)\\t1.0\\n  (0, 17)\\t1.0\\n  (0, 21)\\t1.0\\...\n",
       "1        (0, 9)\\t1.0\\n  (0, 18)\\t1.0\\n  (0, 20)\\t1.0\\...\n",
       "2        (0, 2)\\t1.0\\n  (0, 17)\\t1.0\\n  (0, 20)\\t1.0\\...\n",
       "3        (0, 1)\\t1.0\\n  (0, 17)\\t1.0\\n  (0, 22)\\t1.0\\...\n",
       "4        (0, 11)\\t1.0\\n  (0, 18)\\t1.0\\n  (0, 22)\\t1.0...\n",
       "...                                                  ...\n",
       "43091    (0, 0)\\t1.0\\n  (0, 18)\\t1.0\\n  (0, 20)\\t1.0\\...\n",
       "43092    (0, 9)\\t1.0\\n  (0, 18)\\t1.0\\n  (0, 20)\\t1.0\\...\n",
       "43093    (0, 9)\\t1.0\\n  (0, 17)\\t1.0\\n  (0, 21)\\t1.0\\...\n",
       "43095    (0, 1)\\t1.0\\n  (0, 17)\\t1.0\\n  (0, 20)\\t1.0\\...\n",
       "43096    (0, 2)\\t1.0\\n  (0, 17)\\t1.0\\n  (0, 20)\\t1.0\\...\n",
       "\n",
       "[42520 rows x 1 columns]"
      ]
     },
     "execution_count": 244,
     "metadata": {},
     "output_type": "execute_result"
    }
   ],
   "source": []
  },
  {
   "cell_type": "code",
   "execution_count": null,
   "metadata": {},
   "outputs": [],
   "source": []
  }
 ],
 "metadata": {
  "kernelspec": {
   "display_name": "Python 3",
   "language": "python",
   "name": "python3"
  },
  "language_info": {
   "codemirror_mode": {
    "name": "ipython",
    "version": 3
   },
   "file_extension": ".py",
   "mimetype": "text/x-python",
   "name": "python",
   "nbconvert_exporter": "python",
   "pygments_lexer": "ipython3",
   "version": "3.6.9"
  }
 },
 "nbformat": 4,
 "nbformat_minor": 4
}
