{
 "cells": [
  {
   "cell_type": "code",
   "execution_count": 1,
   "metadata": {},
   "outputs": [
    {
     "name": "stderr",
     "output_type": "stream",
     "text": [
      "/home/claudio/venv/lib/python3.6/site-packages/ipykernel_launcher.py:12: FutureWarning: MLflow support for Python 3.6 is deprecated and will be dropped in an upcoming release. At that point, existing Python 3.6 workflows that use MLflow will continue to work without modification, but Python 3.6 users will no longer get access to the latest MLflow features and bugfixes. We recommend that you upgrade to Python 3.7 or newer.\n",
      "  if sys.path[0] == '':\n"
     ]
    }
   ],
   "source": [
    "#python 3.6.9\n",
    "#pandas \n",
    "\n",
    "import pandas as pd\n",
    "import seaborn as sns\n",
    "import matplotlib.pyplot as plt\n",
    "from features import build_features\n",
    "import numpy as np\n",
    "import os\n",
    "import json\n",
    "from sklearn.metrics import r2_score, mean_squared_error\n",
    "import mlflow\n",
    "import mendeleev\n",
    "from data import make_dataset"
   ]
  },
  {
   "cell_type": "code",
   "execution_count": 2,
   "metadata": {},
   "outputs": [],
   "source": [
    "path = \"/home/claudio/AISC/project_aisc/data/experiments/mlruns/5/\"\n",
    "files = \"/artifacts/predictions.npy\"\n",
    "files_model = \"/artifacts/model\""
   ]
  },
  {
   "cell_type": "code",
   "execution_count": 3,
   "metadata": {},
   "outputs": [],
   "source": [
    "supercon_path = \"/home/claudio/AISC/project_aisc/data/raw/supercon.csv\"\n",
    "supercon = pd.read_csv(supercon_path,index_col=0)\n",
    "y_hosono_true = np.load('/home/claudio/AISC/project_aisc/data/processed/Y_hosono.npy')\n",
    "x_hosono = list(np.load('/home/claudio/AISC/project_aisc/data/processed/hosono.npy'))\n",
    "hosono = pd.read_csv('/home/claudio/AISC/project_aisc/data/external/hosono.csv')"
   ]
  },
  {
   "cell_type": "code",
   "execution_count": 13,
   "metadata": {},
   "outputs": [],
   "source": [
    "file_path = os.listdir(path)\n",
    "file_path.remove('meta.yaml')\n",
    "predictions = [] \n",
    "models = []\n",
    "for i in file_path:\n",
    "    try:\n",
    "        models.append(mlflow.keras.load_model(path + i+ files_model))\n",
    "        predictions.append(np.load(path+i+files))\n",
    "    except:\n",
    "        None"
   ]
  },
  {
   "cell_type": "code",
   "execution_count": 15,
   "metadata": {},
   "outputs": [
    {
     "data": {
      "text/plain": [
       "61"
      ]
     },
     "execution_count": 15,
     "metadata": {},
     "output_type": "execute_result"
    }
   ],
   "source": [
    "len(models)"
   ]
  },
  {
   "cell_type": "code",
   "execution_count": 140,
   "metadata": {},
   "outputs": [
    {
     "data": {
      "text/plain": [
       "39"
      ]
     },
     "execution_count": 140,
     "metadata": {},
     "output_type": "execute_result"
    }
   ],
   "source": [
    "(hosono['critical_temp']>0).sum()"
   ]
  },
  {
   "cell_type": "code",
   "execution_count": 17,
   "metadata": {},
   "outputs": [],
   "source": [
    "hosono_predictions  = [model.predict(x_hosono) for model in models]"
   ]
  },
  {
   "cell_type": "code",
   "execution_count": 19,
   "metadata": {},
   "outputs": [],
   "source": [
    "y_hosono_tot = np.reshape(np.concatenate(hosono_predictions, axis = 0), newshape = (61,207))"
   ]
  },
  {
   "cell_type": "code",
   "execution_count": 20,
   "metadata": {},
   "outputs": [],
   "source": [
    "y_hosono_pred = y_hosono_tot.mean(axis=0)[:39]\n",
    "y_hosono_true = y_hosono_true[:39]"
   ]
  },
  {
   "cell_type": "code",
   "execution_count": 21,
   "metadata": {},
   "outputs": [
    {
     "data": {
      "text/plain": [
       "6.943078210854711"
      ]
     },
     "execution_count": 21,
     "metadata": {},
     "output_type": "execute_result"
    }
   ],
   "source": [
    "mean_squared_error(y_hosono_true,y_hosono_pred,squared=False)"
   ]
  },
  {
   "cell_type": "code",
   "execution_count": 22,
   "metadata": {},
   "outputs": [],
   "source": [
    "path_index = \"/home/claudio/AISC/index_train_test_data.json\"\n",
    "\n",
    "with open(path_index) as f:\n",
    "    json_index = json.load(f)"
   ]
  },
  {
   "cell_type": "code",
   "execution_count": 23,
   "metadata": {},
   "outputs": [],
   "source": [
    "\n",
    "y_true = supercon['critical_temp'].iloc[json_index['index_test']].values#.shape\n",
    "#len(predictions)"
   ]
  },
  {
   "cell_type": "code",
   "execution_count": 52,
   "metadata": {},
   "outputs": [
    {
     "data": {
      "text/plain": [
       "[array([69.28629  , 16.45825  , 20.26686  , ...,  7.0327373,  2.1679363,\n",
       "        10.52001  ], dtype=float32),\n",
       " array([60.53388  , 12.859268 , 16.175259 , ...,  5.2620425,  1.9629993,\n",
       "         6.6422124], dtype=float32),\n",
       " array([70.79816  , 18.717966 , 18.76675  , ...,  8.996992 ,  2.5824332,\n",
       "         8.635139 ], dtype=float32),\n",
       " array([56.186707 , 14.151829 , 16.972668 , ...,  7.2674356,  1.867182 ,\n",
       "         4.130549 ], dtype=float32),\n",
       " array([67.01818  , 20.321074 , 14.343239 , ...,  8.472952 ,  1.1043198,\n",
       "         0.7663786], dtype=float32),\n",
       " array([59.412605 , 21.306852 , 15.221449 , ...,  7.972716 ,  2.303965 ,\n",
       "         5.5784864], dtype=float32),\n",
       " array([61.791023  , 21.470726  , 17.825275  , ...,  7.8569107 ,\n",
       "         0.72091305,  2.9635623 ], dtype=float32),\n",
       " array([62.571667 , 19.322422 , 18.491314 , ...,  7.5766315,  2.1065602,\n",
       "         8.658918 ], dtype=float32),\n",
       " array([68.652954 , 22.39046  , 12.944728 , ...,  8.262259 ,  2.7826526,\n",
       "         2.8029006], dtype=float32),\n",
       " array([61.8421   , 12.193177 , 19.061441 , ...,  7.8242993,  3.7723045,\n",
       "         3.2389398], dtype=float32),\n",
       " array([65.52419  , 19.388931 , 15.222433 , ...,  5.7376337,  1.2799063,\n",
       "        54.67134  ], dtype=float32),\n",
       " array([61.434006 , 17.305353 , 19.980473 , ...,  9.5916815,  4.3216586,\n",
       "        13.070706 ], dtype=float32),\n",
       " array([66.78368  , 18.661915 , 16.337566 , ...,  9.031665 ,  4.1912417,\n",
       "         2.744121 ], dtype=float32),\n",
       " array([58.752647 , 15.977405 , 18.685593 , ..., 10.30852  ,  1.4520495,\n",
       "         2.608541 ], dtype=float32),\n",
       " array([62.74587  , 18.19234  , 16.967842 , ...,  7.642309 ,  2.6657493,\n",
       "         2.849327 ], dtype=float32),\n",
       " array([65.90008  , 16.841372 , 12.231022 , ...,  9.353016 ,  1.6911217,\n",
       "         1.4037602], dtype=float32),\n",
       " array([59.154793 , 18.885315 , 24.416058 , ...,  9.240105 ,  2.2800717,\n",
       "         6.775135 ], dtype=float32),\n",
       " array([66.5801   , 25.338833 , 16.116482 , ...,  8.4510975,  2.7995598,\n",
       "        27.822117 ], dtype=float32),\n",
       " array([74.75848  , 19.03282  , 18.197659 , ...,  6.503077 ,  3.2375457,\n",
       "         6.185562 ], dtype=float32),\n",
       " array([68.27519  , 13.414599 , 13.959195 , ...,  7.809616 ,  3.518186 ,\n",
       "         2.4260635], dtype=float32),\n",
       " array([60.6069   , 14.024937 , 23.844751 , ...,  6.85923  ,  1.4870014,\n",
       "         7.8681774], dtype=float32),\n",
       " array([65.21731  , 17.488228 , 19.208824 , ..., 10.027059 ,  1.6200106,\n",
       "         5.015081 ], dtype=float32),\n",
       " array([55.626064, 23.983301, 23.573896, ...,  6.432733,  3.00772 ,\n",
       "         4.639034], dtype=float32),\n",
       " array([62.465065, 16.836811, 14.477707, ...,  9.195617,  6.632177,\n",
       "        12.283402], dtype=float32),\n",
       " array([72.82536  , 21.339706 , 19.387228 , ...,  9.91044  ,  3.8675914,\n",
       "         5.506853 ], dtype=float32),\n",
       " array([55.78159  , 16.361061 , 15.740415 , ...,  8.074685 ,  1.9236658,\n",
       "         2.8283012], dtype=float32),\n",
       " array([67.35849 , 18.514708, 13.229201, ...,  9.78659 ,  2.960186,\n",
       "         9.801108], dtype=float32),\n",
       " array([62.64816  , 15.7597275, 17.481985 , ...,  8.292626 ,  2.6860738,\n",
       "         8.532898 ], dtype=float32),\n",
       " array([68.01941  , 20.12468  , 14.187081 , ...,  9.271664 ,  3.206283 ,\n",
       "         4.2644715], dtype=float32),\n",
       " array([59.50151  , 18.752634 , 14.085888 , ...,  9.814867 ,  1.3763868,\n",
       "        16.192484 ], dtype=float32),\n",
       " array([56.26916  , 20.550947 , 17.520443 , ..., 10.802942 ,  2.4086802,\n",
       "        47.88547  ], dtype=float32),\n",
       " array([66.135025 , 16.683355 , 19.063889 , ...,  7.8159304,  2.0995712,\n",
       "         2.4252954], dtype=float32),\n",
       " array([61.425323 ,  7.8621154, 15.351064 , ..., 10.9853945,  2.3171072,\n",
       "         5.1741996], dtype=float32),\n",
       " array([61.979286 , 17.4135   , 16.037819 , ..., 11.420039 ,  2.2680984,\n",
       "         2.3399072], dtype=float32),\n",
       " array([61.908268 , 23.189863 , 12.809614 , ...,  9.505361 ,  1.1867986,\n",
       "        25.696623 ], dtype=float32),\n",
       " array([69.203415 , 16.802279 , 18.190653 , ...,  6.308891 ,  0.6651786,\n",
       "         4.0810547], dtype=float32),\n",
       " array([70.76877  , 19.159786 , 12.625684 , ...,  8.533412 ,  1.3472085,\n",
       "         6.1931477], dtype=float32),\n",
       " array([60.26527  , 20.196777 , 17.779934 , ...,  5.420146 ,  1.2875159,\n",
       "         7.228532 ], dtype=float32),\n",
       " array([56.496433 , 16.980507 , 18.494614 , ...,  7.530448 ,  2.7241051,\n",
       "         6.2796917], dtype=float32),\n",
       " array([60.067028 , 12.942947 , 13.407316 , ...,  7.3890038,  1.9598218,\n",
       "         4.809435 ], dtype=float32),\n",
       " array([56.14478 , 23.184278, 14.564339, ...,  6.588558,  1.884498,\n",
       "         1.76481 ], dtype=float32),\n",
       " array([75.74857  , 18.925165 , 22.410074 , ..., 10.717284 ,  2.7712657,\n",
       "         2.7181034], dtype=float32),\n",
       " array([58.029835 , 19.362745 , 19.129755 , ...,  9.794266 ,  1.8208318,\n",
       "         4.203    ], dtype=float32),\n",
       " array([66.591156 , 23.277754 , 12.736924 , ...,  8.315315 ,  3.8564405,\n",
       "         6.6870055], dtype=float32),\n",
       " array([59.052658 , 19.946201 , 12.75044  , ...,  9.516709 ,  2.2002144,\n",
       "        11.948441 ], dtype=float32),\n",
       " array([72.01328  , 17.869886 , 19.14815  , ...,  6.30698  ,  0.2654276,\n",
       "         5.641488 ], dtype=float32),\n",
       " array([54.849014 , 18.384464 , 15.180574 , ...,  7.062074 ,  3.0752535,\n",
       "        24.355913 ], dtype=float32),\n",
       " array([59.18552  , 19.155056 , 15.195723 , ...,  5.5529213,  1.5783031,\n",
       "         2.3437693], dtype=float32),\n",
       " array([62.83713  , 15.688878 , 20.134186 , ...,  8.069206 ,  2.5352743,\n",
       "         3.1766508], dtype=float32),\n",
       " array([62.774624 , 22.701221 , 16.226875 , ..., 10.874433 ,  3.2381191,\n",
       "         1.6748667], dtype=float32),\n",
       " array([65.982544 , 17.340479 , 19.313263 , ...,  9.141948 ,  3.3861554,\n",
       "         7.230669 ], dtype=float32),\n",
       " array([28.894613, 28.894613, 28.894613, ..., 28.89461 , 28.89461 ,\n",
       "        28.89461 ], dtype=float32),\n",
       " array([79.731705 , 16.777287 , 22.16141  , ...,  5.8342443,  1.4921991,\n",
       "         3.0252724], dtype=float32),\n",
       " array([61.61448 , 17.990808, 17.118591, ..., 12.269051,  3.306035,\n",
       "         2.922583], dtype=float32),\n",
       " array([56.742496 , 18.232426 , 13.209858 , ...,  5.528351 ,  3.5269506,\n",
       "         5.117628 ], dtype=float32),\n",
       " array([65.42541  , 26.276388 , 14.123389 , ...,  8.947681 ,  2.6806333,\n",
       "        20.105051 ], dtype=float32),\n",
       " array([76.27645  , 18.864532 , 11.956053 , ...,  8.037232 ,  4.2455435,\n",
       "         6.0432196], dtype=float32),\n",
       " array([65.18997  , 19.43849  , 14.298678 , ...,  9.059861 ,  2.4285698,\n",
       "        30.842825 ], dtype=float32),\n",
       " array([68.681046 , 17.410698 , 19.411617 , ...,  7.693224 ,  1.2655704,\n",
       "         0.8845689], dtype=float32),\n",
       " array([69.41963  , 16.501852 , 15.05117  , ...,  9.753235 ,  0.9854952,\n",
       "         3.6146278], dtype=float32)]"
      ]
     },
     "execution_count": 52,
     "metadata": {},
     "output_type": "execute_result"
    }
   ],
   "source": [
    "predictions\n"
   ]
  },
  {
   "cell_type": "code",
   "execution_count": 48,
   "metadata": {},
   "outputs": [],
   "source": [
    "y_tot = np.reshape(np.concatenate(predictions, axis = 0), newshape = (60,1639))"
   ]
  },
  {
   "cell_type": "code",
   "execution_count": 49,
   "metadata": {},
   "outputs": [
    {
     "data": {
      "text/plain": [
       "' mean : [63.46258  18.557032 17.028286 ...  8.692134  2.854615  8.945568]\\nstd of std : 5.346737384796143'"
      ]
     },
     "execution_count": 49,
     "metadata": {},
     "output_type": "execute_result"
    }
   ],
   "source": [
    "y_pred = y_tot.mean(axis=0)\n",
    "f\"\"\" mean : {y_tot.mean(axis=0)}\n",
    "std of std : {y_tot.std(axis=0).mean()}\"\"\""
   ]
  },
  {
   "cell_type": "code",
   "execution_count": 53,
   "metadata": {},
   "outputs": [
    {
     "data": {
      "text/plain": [
       "0.92626364097187"
      ]
     },
     "execution_count": 53,
     "metadata": {},
     "output_type": "execute_result"
    }
   ],
   "source": [
    "mean_squared_error(y_true,y_pred, squared = False)\n",
    "r2_score(y_true,y_pred)"
   ]
  },
  {
   "cell_type": "code",
   "execution_count": 51,
   "metadata": {},
   "outputs": [
    {
     "name": "stderr",
     "output_type": "stream",
     "text": [
      "/home/claudio/venv/lib/python3.6/site-packages/seaborn/_decorators.py:43: FutureWarning: Pass the following variables as keyword args: x, y. From version 0.12, the only valid positional argument will be `data`, and passing other arguments without an explicit keyword will result in an error or misinterpretation.\n",
      "  FutureWarning\n",
      "/home/claudio/venv/lib/python3.6/site-packages/seaborn/_decorators.py:43: FutureWarning: Pass the following variables as keyword args: x, y. From version 0.12, the only valid positional argument will be `data`, and passing other arguments without an explicit keyword will result in an error or misinterpretation.\n",
      "  FutureWarning\n"
     ]
    },
    {
     "data": {
      "text/plain": [
       "<matplotlib.legend.Legend at 0x7f8a8ed0cc50>"
      ]
     },
     "execution_count": 51,
     "metadata": {},
     "output_type": "execute_result"
    },
    {
     "data": {
      "image/png": "[encoded data removed]",
      "text/plain": [
       "<Figure size 432x288 with 1 Axes>"
      ]
     },
     "metadata": {
      "needs_background": "light"
     },
     "output_type": "display_data"
    }
   ],
   "source": [
    "fig, ax = plt.subplots()\n",
    "sns.scatterplot(y_true,y_pred, ax = ax)\n",
    "sns.scatterplot(y_hosono_true,y_hosono_pred, ax = ax)\n",
    "ax.set_xlabel('Predicted critical temperature')\n",
    "ax.set_ylabel('Observed critical temperature')\n",
    "ax.set_ylim([0,140])\n",
    "ax.set_xlim([0,140])\n",
    "ax.legend(['SuperCon','Hosono'])\n",
    "#plt.savefig(\"/home/claudio/AISC/project_aisc/rgr_ensemble30.png\")"
   ]
  },
  {
   "cell_type": "code",
   "execution_count": 78,
   "metadata": {},
   "outputs": [],
   "source": [
    "path_2d_model = \"/home/claudio/AISC/project_aisc/data/experiments/mlruns/4/b4dafafe2edf449c9d283ed1270b1af0/artifacts/model\"\n",
    "bi_model = mlflow.keras.load_model(path_2d_model)"
   ]
  },
  {
   "cell_type": "code",
   "execution_count": 4,
   "metadata": {},
   "outputs": [],
   "source": [
    "#path = \"/home/claudio/AISC/project_aisc/data/experiments/mlruns/7/4a26d882480748bd98b94db44dab906f/artifacts/model\"\n",
    "path = \"/home/claudio/AISC/project_aisc/data/experiments/mlruns/8/c134941701954aabb749297f7cf2e5d3/artifacts/model\"\n",
    "\n",
    "_model = mlflow.keras.load_model(path)"
   ]
  },
  {
   "cell_type": "code",
   "execution_count": 5,
   "metadata": {},
   "outputs": [],
   "source": [
    "ptable = make_dataset.get_periodictable()\n",
    "    # Initialize the processor for atomic data\n",
    "atom_processor = build_features.AtomData(ptable)\n",
    "    # Process atomic data\n",
    "atom_processed = atom_processor.get_atom_data()\n",
    "    \n",
    "elements = [mendeleev.element(i).symbol for i in range(1, 97)]\n",
    "elements_dataframe = pd.DataFrame(np.eye(96), columns=elements)\n",
    "atoms_processor = build_features.SuperConData(atom_processed, elements_dataframe)\n",
    "# Process SuperCon data\n",
    "atoms_processed = atoms_processor.get_dataset()\n",
    "#atoms_representation = pd.DataFrame(bi_model.atom_representation(atoms_processed).numpy(), index=elements,\n",
    "#                                    columns=['latent feature'])"
   ]
  },
  {
   "cell_type": "code",
   "execution_count": null,
   "metadata": {},
   "outputs": [],
   "source": [
    "atom_processed.to_numpy()\n",
    "from sklearn.manifold import TSNE"
   ]
  },
  {
   "cell_type": "code",
   "execution_count": 6,
   "metadata": {},
   "outputs": [],
   "source": [
    "_pred = _model.phi.predict(atom_processed.to_numpy())"
   ]
  },
  {
   "cell_type": "code",
   "execution_count": 28,
   "metadata": {},
   "outputs": [],
   "source": [
    "weights = _model.rho.weights[0].numpy()\n",
    "bias = _model.rho.weights[1][0].numpy()"
   ]
  },
  {
   "cell_type": "code",
   "execution_count": 30,
   "metadata": {},
   "outputs": [
    {
     "data": {
      "text/plain": [
       "array([-8.83622197e-05,  5.89597075e-05, -2.73725949e-04, -1.87248923e-04,\n",
       "       -4.21915720e-05, -3.07383423e-04,  3.17321319e-05, -1.91273284e-06,\n",
       "       -8.13266612e-04, -1.08653866e-02,  6.55529002e-05, -3.38187558e-04,\n",
       "       -9.19195823e-03,  3.02548506e-05,  2.16411354e-05, -1.10784029e-04,\n",
       "       -3.25227855e-04, -1.26748782e-05,  4.89800656e-03,  2.07207326e-04,\n",
       "        9.29120724e-05,  2.97479826e-04,  1.10083114e-04, -1.42844699e-04,\n",
       "       -9.84599465e-05, -1.11442059e-04, -6.11795625e-03,  1.60546682e-04,\n",
       "        1.61809810e-02, -4.36915690e-03, -2.48080213e-02, -3.85253597e-03,\n",
       "       -1.23719132e-04,  7.28479493e-03, -1.95665009e-04,  2.06822195e-04,\n",
       "       -1.02625076e-04, -4.11773392e-04,  3.59940823e-05, -2.39755551e-04,\n",
       "       -1.89192861e-03,  2.27775003e-04, -2.58001790e-04, -4.78596240e-03,\n",
       "        1.91254498e-04, -1.21720863e-04, -4.16230932e-06, -2.65270675e-04,\n",
       "        4.87351906e-04, -1.29860957e-04,  7.98191782e-03,  3.25517249e-06,\n",
       "        1.67825230e-04,  1.62265101e-03,  1.71387364e-05, -2.33370811e-05,\n",
       "        3.19420709e-04, -2.38308171e-03,  1.95362350e-06,  1.12965442e-02,\n",
       "       -1.30379252e-04, -6.51468144e-05,  6.42553787e-05,  9.10302479e-05,\n",
       "       -1.16183553e-04,  1.45584359e-04, -1.13301901e-02, -1.95625078e-04,\n",
       "       -1.81538034e-02, -6.22978527e-03,  2.39826390e-04,  2.78990301e-05,\n",
       "        3.28703574e-03,  1.06869200e-02,  8.85533344e-04, -1.08378297e-02,\n",
       "       -2.59876280e-04, -6.12213262e-05, -1.01923622e-04,  1.73766748e-04,\n",
       "       -2.01304746e-03,  3.24093271e-04,  7.58220861e-03, -7.20547541e-05,\n",
       "        4.62389071e-05, -2.33943792e-05,  9.76221781e-05, -3.19013459e-04,\n",
       "        5.76063612e-05, -3.79880727e-03, -7.50473095e-03, -8.11154314e-06,\n",
       "       -6.45192747e-04, -4.15007060e-04,  1.09538065e-04,  8.82812892e-05,\n",
       "       -4.15160874e-04,  1.07546388e-04,  4.95049790e-05,  2.54364277e-05,\n",
       "       -7.43823126e-04, -1.43240119e-04, -1.90892834e-02,  1.27938278e-02,\n",
       "       -1.33835965e-05, -1.68973238e-05, -3.16239987e-03, -3.03661422e-04,\n",
       "        7.20651224e-05, -1.25270308e-05, -1.75532157e-04,  3.06884712e-03,\n",
       "        9.62414342e-05, -5.23007801e-03, -5.60574736e-05,  3.84066225e-05,\n",
       "        1.06386637e-04, -2.22559771e-04,  9.81558405e-05, -2.26050048e-04,\n",
       "       -9.09006194e-05, -2.56090872e-02, -2.39320943e-05, -1.86887657e-04,\n",
       "       -5.47297568e-05, -5.37026135e-05,  1.53092740e-04, -3.71649730e-06,\n",
       "       -7.44718272e-06,  1.54982219e-04, -7.41390395e-04, -6.33472530e-03,\n",
       "       -1.84188702e-03, -7.74909131e-05, -4.57437523e-03, -4.55240632e-04,\n",
       "        3.21317348e-05,  9.39734309e-06,  5.14625244e-05, -9.54366848e-03,\n",
       "       -8.55047692e-05, -3.48206668e-04,  1.43240429e-02,  1.02099919e-04,\n",
       "        4.69498773e-05, -5.36354491e-03, -1.30382046e-04,  7.26360013e-05,\n",
       "       -5.16469881e-05, -5.92555106e-03, -6.95464015e-03,  6.06092333e-04,\n",
       "       -1.70784388e-02,  7.62264681e-05, -1.94828099e-04,  9.89741966e-06,\n",
       "        1.68651604e-04,  1.29965774e-05, -7.56368099e-05, -5.23483614e-05,\n",
       "        1.17191739e-05, -4.79038758e-03, -7.36978327e-05, -7.79455877e-06,\n",
       "       -3.93563241e-05, -1.51542597e-04, -1.09794855e-04, -1.91592728e-04,\n",
       "        6.91505411e-05, -4.23336925e-04, -2.37874920e-04, -5.12471306e-04,\n",
       "        1.79928634e-02,  2.15238484e-04,  2.22026429e-05,  1.01309306e-05,\n",
       "       -1.32602360e-03, -1.19803904e-03, -1.39385855e-04, -6.97689189e-04,\n",
       "       -6.73112227e-04, -2.78372280e-02,  1.48904757e-04,  1.95452012e-04,\n",
       "       -1.50603540e-02, -3.32479103e-04,  1.90912653e-02,  1.38645247e-03,\n",
       "       -3.29660106e-05,  9.54620264e-05, -1.67266582e-04,  8.02801084e-03,\n",
       "        5.68350297e-05, -3.56975303e-04,  3.78346340e-05,  1.32137182e-04,\n",
       "       -1.78403963e-04,  1.19106658e-02,  3.90953297e-04, -6.18774357e-06,\n",
       "        3.05743946e-04,  2.69987213e-05, -3.07192764e-04, -6.16796169e-05,\n",
       "        1.20312991e-02, -4.79044951e-03, -1.38672040e-04, -1.44426478e-04,\n",
       "       -1.26506406e-04, -9.12120158e-05, -3.12119402e-04,  5.56239684e-07,\n",
       "       -2.35686093e-05,  6.22521620e-05,  5.95821999e-04, -6.39083097e-03,\n",
       "       -1.68940678e-04,  8.02009599e-04, -9.86140294e-05,  1.16870655e-02,\n",
       "       -4.15435992e-04, -1.25624883e-05, -6.79242585e-05, -2.09985243e-04,\n",
       "       -2.29180354e-04,  1.42915509e-04, -9.81051999e-05, -3.98391421e-05,\n",
       "       -5.71630299e-05,  7.74052896e-05,  3.59981859e-05,  2.71289435e-04,\n",
       "       -1.57067610e-03, -6.40623225e-03, -4.65395581e-03,  1.83852448e-04,\n",
       "        6.18384802e-05, -3.11053591e-03, -3.27739923e-04,  1.47408182e-02,\n",
       "       -2.34283943e-05,  5.14495769e-05, -1.39570238e-06,  3.19779618e-04,\n",
       "       -2.22285045e-03,  3.94921663e-05,  3.68663925e-04,  1.41989702e-04,\n",
       "       -5.92174256e-05,  5.28401753e-04, -1.07399290e-04, -7.44731005e-05,\n",
       "        1.34142072e-04,  3.17906088e-04, -9.93102149e-05,  3.37179954e-05,\n",
       "       -9.33202822e-03,  3.35546746e-03, -2.02732510e-04, -6.74821204e-04,\n",
       "       -8.25660536e-05, -1.06535153e-04, -1.84787670e-03, -4.33562207e-04,\n",
       "        1.68547413e-05, -1.44300124e-04,  2.16444925e-04, -1.20907120e-04,\n",
       "       -8.96064666e-05, -1.20439472e-04,  3.42844869e-05,  1.30829802e-02,\n",
       "       -1.76358526e-03, -2.12304440e-04,  2.41994363e-04,  4.64977566e-05,\n",
       "       -1.79518902e-05,  1.72350759e-04, -1.40194839e-04,  8.35633185e-03,\n",
       "        7.86054152e-05,  9.35796183e-03, -2.81512446e-04, -3.44924250e-04,\n",
       "        3.45945446e-05,  1.38966818e-04, -3.38827813e-05,  7.35809188e-03,\n",
       "        3.80281592e-04,  9.71368281e-05, -1.71659231e-05, -1.46019142e-04,\n",
       "       -2.17020744e-04,  4.39951982e-05, -1.64260069e-04,  1.13090267e-02,\n",
       "       -8.67595445e-05,  1.08552631e-04,  1.74681278e-04,  8.12907674e-05],\n",
       "      dtype=float32)"
      ]
     },
     "execution_count": 30,
     "metadata": {},
     "output_type": "execute_result"
    }
   ],
   "source": [
    "_pred[0]"
   ]
  },
  {
   "cell_type": "code",
   "execution_count": 29,
   "metadata": {},
   "outputs": [
    {
     "data": {
      "text/plain": [
       "array([0.33280283], dtype=float32)"
      ]
     },
     "execution_count": 29,
     "metadata": {},
     "output_type": "execute_result"
    }
   ],
   "source": [
    "np.dot(_pred[0,:], weights) + bias"
   ]
  },
  {
   "cell_type": "code",
   "execution_count": 53,
   "metadata": {},
   "outputs": [],
   "source": [
    "_pred.shape\n",
    "atoms_representation['X1'] = _pred[:,0]\n",
    "atoms_representation['X2'] = _pred[:,1]"
   ]
  },
  {
   "cell_type": "code",
   "execution_count": 80,
   "metadata": {},
   "outputs": [
    {
     "name": "stdout",
     "output_type": "stream",
     "text": [
      "[t-SNE] Computing 95 nearest neighbors...\n",
      "[t-SNE] Indexed 96 samples in 0.001s...\n",
      "[t-SNE] Computed neighbors for 96 samples in 0.013s...\n",
      "[t-SNE] Computed conditional probabilities for sample 96 / 96\n",
      "[t-SNE] Mean sigma: 0.000000\n",
      "[t-SNE] KL divergence after 250 iterations with early exaggeration: 44.390297\n",
      "[t-SNE] KL divergence after 300 iterations: 0.195301\n"
     ]
    }
   ],
   "source": [
    "tsne = TSNE(n_components=2, verbose=1, perplexity=40, n_iter=300)\n",
    "tsne_results = tsne.fit_transform(_pred)"
   ]
  },
  {
   "cell_type": "code",
   "execution_count": 81,
   "metadata": {},
   "outputs": [],
   "source": [
    "atoms_representation['X1'] = tsne_results[:,0]\n",
    "atoms_representation['X2'] = tsne_results[:,1]"
   ]
  },
  {
   "cell_type": "code",
   "execution_count": 83,
   "metadata": {},
   "outputs": [
    {
     "data": {
      "image/png": "[encoded data removed]",
      "text/plain": [
       "<Figure size 1080x1080 with 1 Axes>"
      ]
     },
     "metadata": {
      "needs_background": "light"
     },
     "output_type": "display_data"
    }
   ],
   "source": [
    "fig, axs = plt.subplots(figsize=(15,15))\n",
    "sns.scatterplot(data=atoms_representation, x='X1', y='X2',hue='Categories', ax=axs)\n",
    "axs.set_title('Atomic Latent Representation')\n",
    "axs.set_xlabel('X1')\n",
    "axs.set_ylabel('X2')\n",
    "axs.set_yticks([])\n",
    "\n",
    "for line in range(0,atoms_representation.shape[0]):\n",
    "    axs.text(x = atoms_representation['X1'][line] + 0.02,\n",
    "                y = atoms_representation['X2'][line],\n",
    "                s = mendeleev.element(line+1).symbol,\n",
    "                )\n",
    "#plt.savefig(\"2d-classificazione-clustering-preplexity40.png\")"
   ]
  },
  {
   "cell_type": "code",
   "execution_count": 33,
   "metadata": {},
   "outputs": [
    {
     "name": "stderr",
     "output_type": "stream",
     "text": [
      "/home/claudio/venv/lib/python3.6/site-packages/seaborn/_decorators.py:43: FutureWarning: Pass the following variables as keyword args: x, y. From version 0.12, the only valid positional argument will be `data`, and passing other arguments without an explicit keyword will result in an error or misinterpretation.\n",
      "  FutureWarning\n"
     ]
    },
    {
     "data": {
      "text/plain": [
       "<matplotlib.axes._subplots.AxesSubplot at 0x7f8c905e7a20>"
      ]
     },
     "execution_count": 33,
     "metadata": {},
     "output_type": "execute_result"
    },
    {
     "data": {
      "image/png": "[encoded data removed]",
      "text/plain": [
       "<Figure size 432x288 with 1 Axes>"
      ]
     },
     "metadata": {
      "needs_background": "light"
     },
     "output_type": "display_data"
    }
   ],
   "source": [
    "sns.scatterplot()"
   ]
  },
  {
   "cell_type": "code",
   "execution_count": 13,
   "metadata": {},
   "outputs": [],
   "source": [
    "atoms_representation = pd.DataFrame(columns=['X1','X2'])"
   ]
  },
  {
   "cell_type": "code",
   "execution_count": 81,
   "metadata": {},
   "outputs": [],
   "source": [
    "for i in range(96):\n",
    "    a = np.reshape(atoms_processed[0][i,:-1],newshape=(1,32))\n",
    "    atoms_representation = pd.concat([atoms_representation,pd.DataFrame(bi_model.layers[0](a).numpy(),columns=['X1','X2'])])"
   ]
  },
  {
   "cell_type": "code",
   "execution_count": 40,
   "metadata": {},
   "outputs": [
    {
     "data": {
      "text/html": [
       "<div>\n",
       "<style scoped>\n",
       "    .dataframe tbody tr th:only-of-type {\n",
       "        vertical-align: middle;\n",
       "    }\n",
       "\n",
       "    .dataframe tbody tr th {\n",
       "        vertical-align: top;\n",
       "    }\n",
       "\n",
       "    .dataframe thead th {\n",
       "        text-align: right;\n",
       "    }\n",
       "</style>\n",
       "<table border=\"1\" class=\"dataframe\">\n",
       "  <thead>\n",
       "    <tr style=\"text-align: right;\">\n",
       "      <th></th>\n",
       "      <th>X1</th>\n",
       "      <th>X2</th>\n",
       "      <th>Categories</th>\n",
       "    </tr>\n",
       "  </thead>\n",
       "  <tbody>\n",
       "    <tr>\n",
       "      <th>H</th>\n",
       "      <td>-14.293455</td>\n",
       "      <td>-6.618202</td>\n",
       "      <td>Alkali metals</td>\n",
       "    </tr>\n",
       "    <tr>\n",
       "      <th>He</th>\n",
       "      <td>26.488417</td>\n",
       "      <td>3.891668</td>\n",
       "      <td>Noble gases</td>\n",
       "    </tr>\n",
       "    <tr>\n",
       "      <th>Li</th>\n",
       "      <td>-20.533627</td>\n",
       "      <td>-18.145584</td>\n",
       "      <td>Alkali metals</td>\n",
       "    </tr>\n",
       "    <tr>\n",
       "      <th>Be</th>\n",
       "      <td>-6.854917</td>\n",
       "      <td>5.116045</td>\n",
       "      <td>Alkaline earth metals</td>\n",
       "    </tr>\n",
       "    <tr>\n",
       "      <th>B</th>\n",
       "      <td>-2.148840</td>\n",
       "      <td>21.153585</td>\n",
       "      <td>Transition metals</td>\n",
       "    </tr>\n",
       "    <tr>\n",
       "      <th>...</th>\n",
       "      <td>...</td>\n",
       "      <td>...</td>\n",
       "      <td>...</td>\n",
       "    </tr>\n",
       "    <tr>\n",
       "      <th>U</th>\n",
       "      <td>4.380748</td>\n",
       "      <td>0.362987</td>\n",
       "      <td>Actinides</td>\n",
       "    </tr>\n",
       "    <tr>\n",
       "      <th>Np</th>\n",
       "      <td>-9.659774</td>\n",
       "      <td>-0.856219</td>\n",
       "      <td>Actinides</td>\n",
       "    </tr>\n",
       "    <tr>\n",
       "      <th>Pu</th>\n",
       "      <td>-19.530870</td>\n",
       "      <td>-10.538632</td>\n",
       "      <td>Actinides</td>\n",
       "    </tr>\n",
       "    <tr>\n",
       "      <th>Am</th>\n",
       "      <td>-8.440217</td>\n",
       "      <td>-3.468648</td>\n",
       "      <td>Actinides</td>\n",
       "    </tr>\n",
       "    <tr>\n",
       "      <th>Cm</th>\n",
       "      <td>-2.993348</td>\n",
       "      <td>-0.905428</td>\n",
       "      <td>Actinides</td>\n",
       "    </tr>\n",
       "  </tbody>\n",
       "</table>\n",
       "<p>96 rows × 3 columns</p>\n",
       "</div>"
      ],
      "text/plain": [
       "           X1         X2             Categories\n",
       "H  -14.293455  -6.618202          Alkali metals\n",
       "He  26.488417   3.891668            Noble gases\n",
       "Li -20.533627 -18.145584          Alkali metals\n",
       "Be  -6.854917   5.116045  Alkaline earth metals\n",
       "B   -2.148840  21.153585      Transition metals\n",
       "..        ...        ...                    ...\n",
       "U    4.380748   0.362987              Actinides\n",
       "Np  -9.659774  -0.856219              Actinides\n",
       "Pu -19.530870 -10.538632              Actinides\n",
       "Am  -8.440217  -3.468648              Actinides\n",
       "Cm  -2.993348  -0.905428              Actinides\n",
       "\n",
       "[96 rows x 3 columns]"
      ]
     },
     "execution_count": 40,
     "metadata": {},
     "output_type": "execute_result"
    }
   ],
   "source": [
    "atoms_representation"
   ]
  },
  {
   "cell_type": "code",
   "execution_count": 15,
   "metadata": {},
   "outputs": [],
   "source": [
    "import mendeleev\n",
    "\n",
    "symbols = [mendeleev.element(i).symbol for i in range(1,atoms_representation.shape[0]+1)]\n",
    "atom_list = [i for i in range(96)]\n",
    "atoms_representation.index = symbols\n",
    "\n",
    "gas_nobles = [1,9,17,35,53,85]\n",
    "alkali_metals = [0,2,10,18,36,54,86]\n",
    "earth_alkali_metals = [3,11,19,37,55,87]\n",
    "transitional_elements = [i for i in range(20,30)] + [i for i in range(38,49)] + [56]+[i for i in range(71,81)]\n",
    "halogens = [8,16,34,52,84]\n",
    "reactive_nonmetals = [5,6,7,14,15,33]\n",
    "metalloid = [30,48,49,80,81,82]\n",
    "lanthanides = [i for i in range(57,72)]\n",
    "actinides = [i for i in range(89,96)]\n",
    "atomic_categories = ['Transition metals' for i in range(96)]\n",
    "categories = [gas_nobles,alkali_metals,earth_alkali_metals,transitional_elements,halogens,reactive_nonmetals,metalloid,lanthanides,actinides]\n",
    "\n",
    "\n",
    "for gas in actinides:\n",
    "    atomic_categories[gas] = 'Actinides'\n",
    "for gas in lanthanides:\n",
    "    atomic_categories[gas] = 'Lanthanides'\n",
    "for gas in metalloid:\n",
    "    atomic_categories[gas] = 'Metalloid'\n",
    "for gas in reactive_nonmetals:\n",
    "    atomic_categories[gas] = 'Reactive nonmetals'\n",
    "for gas in halogens:\n",
    "    atomic_categories[gas] = 'Halogens'\n",
    "for gas in earth_alkali_metals:\n",
    "    atomic_categories[gas] = 'Alkaline earth metals'\n",
    "for gas in alkali_metals:\n",
    "    atomic_categories[gas] = 'Alkali metals'\n",
    "for gas in gas_nobles:\n",
    "    atomic_categories[gas] = 'Noble gases'\n",
    "    \n",
    "atoms_representation['Categories'] = atomic_categories"
   ]
  },
  {
   "cell_type": "code",
   "execution_count": 85,
   "metadata": {},
   "outputs": [
    {
     "data": {
      "text/html": [
       "<div>\n",
       "<style scoped>\n",
       "    .dataframe tbody tr th:only-of-type {\n",
       "        vertical-align: middle;\n",
       "    }\n",
       "\n",
       "    .dataframe tbody tr th {\n",
       "        vertical-align: top;\n",
       "    }\n",
       "\n",
       "    .dataframe thead th {\n",
       "        text-align: right;\n",
       "    }\n",
       "</style>\n",
       "<table border=\"1\" class=\"dataframe\">\n",
       "  <thead>\n",
       "    <tr style=\"text-align: right;\">\n",
       "      <th></th>\n",
       "      <th>X1</th>\n",
       "      <th>X2</th>\n",
       "      <th>Categories</th>\n",
       "    </tr>\n",
       "  </thead>\n",
       "  <tbody>\n",
       "    <tr>\n",
       "      <th>H</th>\n",
       "      <td>-0.584217</td>\n",
       "      <td>-0.303829</td>\n",
       "      <td>Alkali metals</td>\n",
       "    </tr>\n",
       "    <tr>\n",
       "      <th>He</th>\n",
       "      <td>0.618103</td>\n",
       "      <td>1.665814</td>\n",
       "      <td>Noble gases</td>\n",
       "    </tr>\n",
       "    <tr>\n",
       "      <th>Li</th>\n",
       "      <td>0.856158</td>\n",
       "      <td>-1.728242</td>\n",
       "      <td>Alkali metals</td>\n",
       "    </tr>\n",
       "    <tr>\n",
       "      <th>Be</th>\n",
       "      <td>0.842594</td>\n",
       "      <td>0.841557</td>\n",
       "      <td>Alkaline earth metals</td>\n",
       "    </tr>\n",
       "    <tr>\n",
       "      <th>B</th>\n",
       "      <td>-1.823763</td>\n",
       "      <td>3.112156</td>\n",
       "      <td>Transition metals</td>\n",
       "    </tr>\n",
       "    <tr>\n",
       "      <th>...</th>\n",
       "      <td>...</td>\n",
       "      <td>...</td>\n",
       "      <td>...</td>\n",
       "    </tr>\n",
       "    <tr>\n",
       "      <th>U</th>\n",
       "      <td>3.104288</td>\n",
       "      <td>0.294037</td>\n",
       "      <td>Actinides</td>\n",
       "    </tr>\n",
       "    <tr>\n",
       "      <th>Np</th>\n",
       "      <td>2.482926</td>\n",
       "      <td>0.832183</td>\n",
       "      <td>Actinides</td>\n",
       "    </tr>\n",
       "    <tr>\n",
       "      <th>Pu</th>\n",
       "      <td>-2.278902</td>\n",
       "      <td>4.153175</td>\n",
       "      <td>Actinides</td>\n",
       "    </tr>\n",
       "    <tr>\n",
       "      <th>Am</th>\n",
       "      <td>4.525250</td>\n",
       "      <td>-0.141398</td>\n",
       "      <td>Actinides</td>\n",
       "    </tr>\n",
       "    <tr>\n",
       "      <th>Cm</th>\n",
       "      <td>5.243091</td>\n",
       "      <td>-0.460407</td>\n",
       "      <td>Actinides</td>\n",
       "    </tr>\n",
       "  </tbody>\n",
       "</table>\n",
       "<p>96 rows × 3 columns</p>\n",
       "</div>"
      ],
      "text/plain": [
       "          X1        X2             Categories\n",
       "H  -0.584217 -0.303829          Alkali metals\n",
       "He  0.618103  1.665814            Noble gases\n",
       "Li  0.856158 -1.728242          Alkali metals\n",
       "Be  0.842594  0.841557  Alkaline earth metals\n",
       "B  -1.823763  3.112156      Transition metals\n",
       "..       ...       ...                    ...\n",
       "U   3.104288  0.294037              Actinides\n",
       "Np  2.482926  0.832183              Actinides\n",
       "Pu -2.278902  4.153175              Actinides\n",
       "Am  4.525250 -0.141398              Actinides\n",
       "Cm  5.243091 -0.460407              Actinides\n",
       "\n",
       "[96 rows x 3 columns]"
      ]
     },
     "execution_count": 85,
     "metadata": {},
     "output_type": "execute_result"
    }
   ],
   "source": [
    "atoms_representation"
   ]
  },
  {
   "cell_type": "code",
   "execution_count": null,
   "metadata": {},
   "outputs": [],
   "source": []
  }
 ],
 "metadata": {
  "kernelspec": {
   "display_name": "Python 3",
   "language": "python",
   "name": "python3"
  },
  "language_info": {
   "codemirror_mode": {
    "name": "ipython",
    "version": 3
   },
   "file_extension": ".py",
   "mimetype": "text/x-python",
   "name": "python",
   "nbconvert_exporter": "python",
   "pygments_lexer": "ipython3",
   "version": "3.6.9"
  }
 },
 "nbformat": 4,
 "nbformat_minor": 4
}
